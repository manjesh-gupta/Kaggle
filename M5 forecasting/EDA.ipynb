{
 "cells": [
  {
   "cell_type": "code",
   "execution_count": 1,
   "metadata": {},
   "outputs": [],
   "source": [
    "from  datetime import datetime, timedelta\n",
    "import gc\n",
    "import numpy as np, pandas as pd\n",
    "import matplotlib.pyplot as plt"
   ]
  },
  {
   "cell_type": "code",
   "execution_count": 2,
   "metadata": {},
   "outputs": [],
   "source": [
    "dt = pd.read_csv('sales_train_validation.csv')\n",
    "dt = dt.astype({col: 'int32' for col in dt.select_dtypes('int64').columns})\n",
    "dt['Mean_sales'] = dt.mean(axis=1, numeric_only=True)\n",
    "dt['Zeros']= dt[dt == 0].count(axis=1)/len(dt.columns)"
   ]
  },
  {
   "cell_type": "code",
   "execution_count": 3,
   "metadata": {},
   "outputs": [],
   "source": [
    "cal = pd.read_csv('calendar.csv')\n",
    "cal['date'] = pd.to_datetime(cal['date'])\n",
    "cal = cal.astype({col: 'int32' for col in cal.select_dtypes('int64').columns})\n",
    "cal_1 = cal[0:1941]"
   ]
  },
  {
   "cell_type": "code",
   "execution_count": 4,
   "metadata": {},
   "outputs": [],
   "source": [
    "prices = pd.read_csv('sell_prices.csv')"
   ]
  },
  {
   "cell_type": "code",
   "execution_count": 5,
   "metadata": {},
   "outputs": [],
   "source": [
    "def get_tm_ser(lc):\n",
    "    #print(lc)\n",
    "    dt_item_n = dt.iloc[[lc]]\n",
    "\n",
    "    catcols = ['id', 'item_id', 'dept_id','store_id', 'cat_id', 'state_id']\n",
    "    dt_item_n = pd.melt(dt_item_n, \n",
    "                        id_vars = catcols, \n",
    "                        value_vars = [col for col in dt.columns if col.startswith('d_')], \n",
    "                        var_name = 'd', \n",
    "                        value_name = 'sales')\n",
    "    lst = dt_item_n.loc[0, :].values.tolist()\n",
    "    id_add = lst[0]\n",
    "    it_add = lst[1]\n",
    "    dep_add = lst[2]\n",
    "    store_add = lst[3]\n",
    "    cat_add = lst[4]\n",
    "    state_add = lst[5]\n",
    "    print(id_add)\n",
    "    for i in range(28):\n",
    "        j = i+1914\n",
    "        day_str = 'd_'+str(j)\n",
    "        add_row ={'id': id_add, 'item_id': it_add, 'dept_id': dep_add, 'store_id': store_add, 'cat_id': cat_add, \n",
    "                  'state_id': state_add, 'd': day_str, 'sales': -1}\n",
    "        dt_item_n = dt_item_n.append(add_row, ignore_index=True)\n",
    "\n",
    "    dt_item_n = dt_item_n.merge(cal, on= \"d\", copy = False)\n",
    "    dt_item_n['price']=0.0\n",
    "\n",
    "    price_curr = prices[(prices['store_id'] == store_add) & (prices['item_id'] == it_add)] \n",
    "    week_list = price_curr['wm_yr_wk'].tolist()\n",
    "    #print(week_list)\n",
    "    for i, row in dt_item_n.iterrows():\n",
    "        week = row['wm_yr_wk']\n",
    "        if (week in week_list): \n",
    "            price =  price_curr.loc[price_curr['wm_yr_wk'] == week, 'sell_price'].iloc[0]\n",
    "        else:\n",
    "            price = 0\n",
    "        dt_item_n.at[i, 'price'] = price\n",
    "    return dt_item_n"
   ]
  },
  {
   "cell_type": "code",
   "execution_count": 6,
   "metadata": {},
   "outputs": [],
   "source": [
    "def plot_ser(i):\n",
    "    df = get_tm_ser(i)\n",
    "    df_train = df[:-28]\n",
    "    dates = df_train['date'].tolist()\n",
    "    sales = df_train['sales'].tolist()\n",
    "    plt.rcParams[\"figure.figsize\"] = (20,6)\n",
    "    plt.scatter(dates, sales, s=15, c='royalblue')\n",
    "    ax = plt.gca()\n",
    "    ax.set_ylabel('Sales')\n",
    "    ax.set_xlabel('Dates')\n",
    "    plt.show()"
   ]
  },
  {
   "cell_type": "code",
   "execution_count": 7,
   "metadata": {},
   "outputs": [
    {
     "name": "stdout",
     "output_type": "stream",
     "text": [
      "HOBBIES_1_012_CA_1_validation\n"
     ]
    },
    {
     "data": {
      "image/png": "[encoded data removed]",
      "text/plain": [
       "<Figure size 1440x432 with 1 Axes>"
      ]
     },
     "metadata": {
      "needs_background": "light"
     },
     "output_type": "display_data"
    }
   ],
   "source": [
    "i = 11\n",
    "plot_ser(i)   #plot individual item wise series by index value"
   ]
  },
  {
   "cell_type": "code",
   "execution_count": 8,
   "metadata": {},
   "outputs": [
    {
     "data": {
      "text/plain": [
       "count    30490.000000\n",
       "mean         1.126322\n",
       "std          2.727249\n",
       "min          0.005227\n",
       "25%          0.185572\n",
       "50%          0.443283\n",
       "75%          1.062075\n",
       "max        130.947203\n",
       "Name: Mean_sales, dtype: float64"
      ]
     },
     "execution_count": 8,
     "metadata": {},
     "output_type": "execute_result"
    }
   ],
   "source": [
    "dt.Mean_sales.describe()    #Mean daily saily of each item across all the individual series"
   ]
  },
  {
   "cell_type": "code",
   "execution_count": 9,
   "metadata": {},
   "outputs": [
    {
     "data": {
      "text/plain": [
       "count    30490.000000\n",
       "mean         0.679476\n",
       "std          0.222957\n",
       "min          0.001563\n",
       "25%          0.534896\n",
       "50%          0.732812\n",
       "75%          0.864062\n",
       "max          0.992708\n",
       "Name: Zeros, dtype: float64"
      ]
     },
     "execution_count": 9,
     "metadata": {},
     "output_type": "execute_result"
    }
   ],
   "source": [
    "dt.Zeros.describe()   #Approximate percentage of zero sales on a day across all the individual series"
   ]
  }
 ],
 "metadata": {
  "kernelspec": {
   "display_name": "Python 3",
   "language": "python",
   "name": "python3"
  },
  "language_info": {
   "codemirror_mode": {
    "name": "ipython",
    "version": 3
   },
   "file_extension": ".py",
   "mimetype": "text/x-python",
   "name": "python",
   "nbconvert_exporter": "python",
   "pygments_lexer": "ipython3",
   "version": "3.7.3"
  }
 },
 "nbformat": 4,
 "nbformat_minor": 4
}
