{
 "cells": [
  {
   "cell_type": "code",
   "execution_count": 1,
   "metadata": {
    "id": "6L3TKdsJPcDT"
   },
   "outputs": [],
   "source": [
    "from  datetime import datetime, timedelta\n",
    "import gc\n",
    "import numpy as np \n",
    "import pandas as pd\n",
    "import lightgbm as lgb"
   ]
  },
  {
   "cell_type": "code",
   "execution_count": 2,
   "metadata": {
    "id": "JmrxWVUzPcDY"
   },
   "outputs": [],
   "source": [
    "cal_dtype = {\"event_name_1\": \"category\", \"event_name_2\": \"category\", \"event_type_1\": \"category\", \n",
    "              \"event_type_2\": \"category\", \"weekday\": \"category\", 'wm_yr_wk': 'int16', \"wday\": \"int16\",\n",
    "              \"month\": \"int16\", \"year\": \"int16\", \"snap_CA\": \"float32\", 'snap_TX': 'float32', 'snap_WI': 'float32'}\n",
    "price_dtype = {\"store_id\": \"category\", \"item_id\": \"category\", \"wm_yr_wk\": \"int16\",\"sell_price\":\"float32\"}\n",
    "pd.options.display.max_columns = 50\n",
    "h = 28                         #time horizon for prediction\n",
    "max_lags = 57                  #number of previous values needed for lag and rolling mean calculation\n",
    "tr_last = 1941                 #last value training set\n",
    "fday = datetime(2016,5, 23)    #first value inference set"
   ]
  },
  {
   "cell_type": "code",
   "execution_count": 3,
   "metadata": {
    "id": "KOuWuxP-PcDc"
   },
   "outputs": [],
   "source": [
    "def create_dt(is_train = True, nrows = None, first_day = 1200):\n",
    "    #Read price dataset and set category columns as int16 to reduce memory\n",
    "    prices = pd.read_csv(\"../input/m5-forecasting-accuracy/sell_prices.csv\", dtype = price_dtype)\n",
    "    for col, col_dtype in price_dtype.items():\n",
    "        if col_dtype == \"category\":\n",
    "            prices[col] = prices[col].cat.codes.astype(\"int16\")\n",
    "            prices[col] -= prices[col].min()\n",
    "    \n",
    "    #Read calendar dataset and set category columns as int16 to reduce memory\n",
    "    cal = pd.read_csv(\"../input/m5-forecasting-accuracy/calendar.csv\", dtype = cal_dtype)\n",
    "    cal[\"date\"] = pd.to_datetime(cal[\"date\"])\n",
    "    for col, col_dtype in cal_dtype.items():\n",
    "        if col_dtype == \"category\":\n",
    "            cal[col] = cal[col].cat.codes.astype(\"int16\")\n",
    "            cal[col] -= cal[col].min()\n",
    "    \n",
    "    start_day = max(1 if is_train  else tr_last-max_lags, first_day) #for train we need entire dataset, for inference only last 57 values\n",
    "    \n",
    "    numcols = [f\"d_{day}\" for day in range(start_day,tr_last+1)]\n",
    "    catcols = ['id', 'item_id', 'dept_id','store_id', 'cat_id', 'state_id']\n",
    "    dtype = {numcol:\"float32\" for numcol in numcols} \n",
    "    dtype.update({col: \"category\" for col in catcols if col != \"id\"})\n",
    "    \n",
    "    #Reading sales dataset and change category columns to int16\n",
    "    dt = pd.read_csv(\"../input/m5-forecasting-accuracy/sales_train_evaluation.csv\", \n",
    "                     nrows = nrows, usecols = catcols + numcols, dtype = dtype)\n",
    "\n",
    "   \n",
    "    for col in catcols:\n",
    "        if col != \"id\":\n",
    "            dt[col] = dt[col].cat.codes.astype(\"int16\")\n",
    "            dt[col] -= dt[col].min()\n",
    "    \n",
    "    #Generate 28 columns for prediction in case of inference set\n",
    "    if not is_train:\n",
    "        for day in range(tr_last+1, tr_last+ 28 +1):\n",
    "            dt[f\"d_{day}\"] = np.nan\n",
    "    \n",
    "    #Melt sales data to get each day sales in rows instead of columns\n",
    "    dt = pd.melt(dt,\n",
    "                  id_vars = catcols,\n",
    "                  value_vars = [col for col in dt.columns if col.startswith(\"d_\")],\n",
    "                  var_name = \"d\",\n",
    "                  value_name = \"sales\")\n",
    "   \n",
    "    #Merge sales data with calendar data and price data\n",
    "    dt = dt.merge(cal, on= \"d\", copy = False)\n",
    "    dt = dt.merge(prices, on = [\"store_id\", \"item_id\", \"wm_yr_wk\"], copy = False)\n",
    "\n",
    "    \n",
    "    return dt"
   ]
  },
  {
   "cell_type": "code",
   "execution_count": 4,
   "metadata": {
    "id": "flYv2HvqPcDf"
   },
   "outputs": [],
   "source": [
    "def create_features(dt):\n",
    "    \n",
    "    #Create lags\n",
    "    lags = [7, 28]\n",
    "    lag_cols = [f\"lag_{lag}\" for lag in lags ]\n",
    "    for lag, lag_col in zip(lags, lag_cols):\n",
    "        dt[lag_col] = dt[[\"id\",\"sales\"]].groupby(\"id\")[\"sales\"].shift(lag)\n",
    "        \n",
    "\n",
    "    #Create rolling means \n",
    "    wins = [7, 28]\n",
    "    for win in wins :\n",
    "        for lag,lag_col in zip(lags, lag_cols):\n",
    "            dt[f\"rmean_{lag}_{win}\"] = dt[[\"id\", lag_col]].groupby(\"id\")[lag_col].transform(lambda x : x.rolling(win).mean()) \n",
    "    \n",
    "    #Create date features from date\n",
    "    date_features = {\"wday\": \"weekday\",\n",
    "                     \"week\": \"weekofyear\",\n",
    "                     \"month\": \"month\",\n",
    "                     \"quarter\": \"quarter\",\n",
    "                     \"year\": \"year\",\n",
    "                     \"mday\": \"day\"}\n",
    "       \n",
    "    for date_feat_name, date_feat_func in date_features.items():\n",
    "        if date_feat_name in dt.columns:\n",
    "            dt[date_feat_name] = dt[date_feat_name].astype(\"int16\")\n",
    "        else:\n",
    "            dt[date_feat_name] = getattr(dt[\"date\"].dt, date_feat_func).astype(\"int16\")\n"
   ]
  },
  {
   "cell_type": "code",
   "execution_count": 5,
   "metadata": {
    "id": "VGSMYjo9PcDh",
    "outputId": "abb9ee8b-c372-4426-a75b-29f5429066f9"
   },
   "outputs": [
    {
     "name": "stdout",
     "output_type": "stream",
     "text": [
      "CPU times: user 35 s, sys: 14.3 s, total: 49.2 s\n",
      "Wall time: 49.3 s\n"
     ]
    },
    {
     "data": {
      "text/plain": [
       "(46881677, 22)"
      ]
     },
     "execution_count": 5,
     "metadata": {},
     "output_type": "execute_result"
    }
   ],
   "source": [
    "%%time\n",
    "first_day = 1\n",
    "df = create_dt(is_train=True, first_day= first_day)\n",
    "df.shape"
   ]
  },
  {
   "cell_type": "code",
   "execution_count": 6,
   "metadata": {
    "id": "Z-UpijGmPcDr",
    "outputId": "932bf40f-c3d5-45a5-b424-d69b5071cad0"
   },
   "outputs": [
    {
     "name": "stdout",
     "output_type": "stream",
     "text": [
      "CPU times: user 3min 10s, sys: 19.3 s, total: 3min 29s\n",
      "Wall time: 3min 29s\n"
     ]
    },
    {
     "data": {
      "text/plain": [
       "(46881677, 31)"
      ]
     },
     "execution_count": 6,
     "metadata": {},
     "output_type": "execute_result"
    }
   ],
   "source": [
    "%%time\n",
    "create_features(df)\n",
    "df.shape"
   ]
  },
  {
   "cell_type": "code",
   "execution_count": 7,
   "metadata": {
    "id": "XKNt_ty5PcD0",
    "outputId": "bc7ffb89-9f14-42de-adfd-867048f3fb0f"
   },
   "outputs": [
    {
     "data": {
      "text/plain": [
       "(45204727, 31)"
      ]
     },
     "execution_count": 7,
     "metadata": {},
     "output_type": "execute_result"
    }
   ],
   "source": [
    "df.dropna(inplace = True)\n",
    "df.shape"
   ]
  },
  {
   "cell_type": "code",
   "execution_count": 8,
   "metadata": {
    "id": "h2G2Z2xfPcD3"
   },
   "outputs": [],
   "source": [
    "cat_feats = ['item_id', 'dept_id','store_id', 'cat_id', 'state_id'] + [\"event_name_1\", \"event_name_2\", \"event_type_1\", \"event_type_2\"]\n",
    "useless_cols = [\"id\", \"date\", \"sales\",\"d\", \"wm_yr_wk\", \"weekday\"]\n",
    "train_cols = df.columns[~df.columns.isin(useless_cols)]\n",
    "X_train = df[train_cols]\n",
    "y_train = df[\"sales\"]"
   ]
  },
  {
   "cell_type": "code",
   "execution_count": 9,
   "metadata": {
    "id": "4LEoJIB6PcD6",
    "outputId": "7466fd5c-9180-4d2d-8d02-589dfbfa0ed0"
   },
   "outputs": [
    {
     "name": "stdout",
     "output_type": "stream",
     "text": [
      "CPU times: user 17.5 s, sys: 2.54 s, total: 20 s\n",
      "Wall time: 20 s\n"
     ]
    }
   ],
   "source": [
    "#Creating dataset for LightGBM model\n",
    "%%time\n",
    "np.random.seed(777)\n",
    "fake_valid_inds = np.random.choice(X_train.index.values, 2_000_000, replace = False)\n",
    "train_inds = np.setdiff1d(X_train.index.values, fake_valid_inds)\n",
    "train_data = lgb.Dataset(X_train.loc[train_inds] , label = y_train.loc[train_inds],\n",
    "                         categorical_feature=cat_feats, free_raw_data=False)\n",
    "fake_valid_data = lgb.Dataset(X_train.loc[fake_valid_inds], label = y_train.loc[fake_valid_inds],\n",
    "                              categorical_feature=cat_feats, free_raw_data=False)"
   ]
  },
  {
   "cell_type": "code",
   "execution_count": 10,
   "metadata": {
    "id": "R86LUo7lPcD8",
    "outputId": "689dde77-1411-42a5-fdfd-5e4d04a0cfc3"
   },
   "outputs": [
    {
     "data": {
      "text/plain": [
       "116"
      ]
     },
     "execution_count": 10,
     "metadata": {},
     "output_type": "execute_result"
    }
   ],
   "source": [
    "#Deleting unneeded vars to free RAM\n",
    "del df, X_train, y_train, fake_valid_inds,train_inds ; gc.collect()"
   ]
  },
  {
   "cell_type": "code",
   "execution_count": 11,
   "metadata": {
    "id": "od5QxCtsPcD_"
   },
   "outputs": [],
   "source": [
    "params = {\"objective\" : \"poisson\",\n",
    "          \"metric\" :\"rmse\",\n",
    "          \"force_row_wise\" : True,\n",
    "          \"learning_rate\" : 0.075,\n",
    "          \"sub_row\" : 0.75,\n",
    "          \"bagging_freq\" : 1,\n",
    "          \"lambda_l2\" : 0.1,\n",
    "          \"verbosity\": 1,\n",
    "          \"num_iterations\" : 1200,\n",
    "          \"num_leaves\": 128,\n",
    "          \"min_data_in_leaf\": 100}"
   ]
  },
  {
   "cell_type": "code",
   "execution_count": 12,
   "metadata": {
    "id": "wjlkoj-zPcEB",
    "outputId": "79a82614-edd8-47b0-90de-3f3625973fef"
   },
   "outputs": [
    {
     "name": "stderr",
     "output_type": "stream",
     "text": [
      "/opt/conda/lib/python3.7/site-packages/lightgbm/engine.py:148: UserWarning: Found `num_iterations` in params. Will use it instead of argument\n",
      "  warnings.warn(\"Found `{}` in params. Will use it instead of argument\".format(alias))\n",
      "/opt/conda/lib/python3.7/site-packages/lightgbm/basic.py:1291: UserWarning: Using categorical_feature in Dataset.\n",
      "  warnings.warn('Using categorical_feature in Dataset.')\n"
     ]
    },
    {
     "name": "stdout",
     "output_type": "stream",
     "text": [
      "[20]\tvalid_0's rmse: 3.02293\n",
      "[40]\tvalid_0's rmse: 2.57764\n",
      "[60]\tvalid_0's rmse: 2.45981\n",
      "[80]\tvalid_0's rmse: 2.42675\n",
      "[100]\tvalid_0's rmse: 2.41573\n",
      "[120]\tvalid_0's rmse: 2.40753\n",
      "[140]\tvalid_0's rmse: 2.39997\n",
      "[160]\tvalid_0's rmse: 2.39243\n",
      "[180]\tvalid_0's rmse: 2.38456\n",
      "[200]\tvalid_0's rmse: 2.37745\n",
      "[220]\tvalid_0's rmse: 2.37176\n",
      "[240]\tvalid_0's rmse: 2.36775\n",
      "[260]\tvalid_0's rmse: 2.36338\n",
      "[280]\tvalid_0's rmse: 2.35837\n",
      "[300]\tvalid_0's rmse: 2.35389\n",
      "[320]\tvalid_0's rmse: 2.35021\n",
      "[340]\tvalid_0's rmse: 2.34703\n",
      "[360]\tvalid_0's rmse: 2.34345\n",
      "[380]\tvalid_0's rmse: 2.33953\n",
      "[400]\tvalid_0's rmse: 2.33566\n",
      "[420]\tvalid_0's rmse: 2.33221\n",
      "[440]\tvalid_0's rmse: 2.33019\n",
      "[460]\tvalid_0's rmse: 2.32743\n",
      "[480]\tvalid_0's rmse: 2.32515\n",
      "[500]\tvalid_0's rmse: 2.32259\n",
      "[520]\tvalid_0's rmse: 2.32078\n",
      "[540]\tvalid_0's rmse: 2.31746\n",
      "[560]\tvalid_0's rmse: 2.31534\n",
      "[580]\tvalid_0's rmse: 2.31229\n",
      "[600]\tvalid_0's rmse: 2.31083\n",
      "[620]\tvalid_0's rmse: 2.30893\n",
      "[640]\tvalid_0's rmse: 2.30642\n",
      "[660]\tvalid_0's rmse: 2.30397\n",
      "[680]\tvalid_0's rmse: 2.30181\n",
      "[700]\tvalid_0's rmse: 2.30018\n",
      "[720]\tvalid_0's rmse: 2.29729\n",
      "[740]\tvalid_0's rmse: 2.29558\n",
      "[760]\tvalid_0's rmse: 2.29399\n",
      "[780]\tvalid_0's rmse: 2.29248\n",
      "[800]\tvalid_0's rmse: 2.2915\n",
      "[820]\tvalid_0's rmse: 2.29032\n",
      "[840]\tvalid_0's rmse: 2.28917\n",
      "[860]\tvalid_0's rmse: 2.28815\n",
      "[880]\tvalid_0's rmse: 2.28705\n",
      "[900]\tvalid_0's rmse: 2.28535\n",
      "[920]\tvalid_0's rmse: 2.28414\n",
      "[940]\tvalid_0's rmse: 2.28284\n",
      "[960]\tvalid_0's rmse: 2.28171\n",
      "[980]\tvalid_0's rmse: 2.28047\n",
      "[1000]\tvalid_0's rmse: 2.27868\n",
      "[1020]\tvalid_0's rmse: 2.27718\n",
      "[1040]\tvalid_0's rmse: 2.27582\n",
      "[1060]\tvalid_0's rmse: 2.27489\n",
      "[1080]\tvalid_0's rmse: 2.27393\n",
      "[1100]\tvalid_0's rmse: 2.27265\n",
      "[1120]\tvalid_0's rmse: 2.2718\n",
      "[1140]\tvalid_0's rmse: 2.27127\n",
      "[1160]\tvalid_0's rmse: 2.27045\n",
      "[1180]\tvalid_0's rmse: 2.2693\n",
      "[1200]\tvalid_0's rmse: 2.26853\n",
      "CPU times: user 8h 49min 6s, sys: 3min 53s, total: 8h 53min\n",
      "Wall time: 2h 17min 26s\n"
     ]
    }
   ],
   "source": [
    "#Training the model\n",
    "%%time\n",
    "m_lgb = lgb.train(params, train_data, valid_sets = [fake_valid_data], verbose_eval=20) "
   ]
  },
  {
   "cell_type": "code",
   "execution_count": 13,
   "metadata": {
    "id": "xSF7rYYlPcED"
   },
   "outputs": [
    {
     "data": {
      "text/plain": [
       "<lightgbm.basic.Booster at 0x7fce61180750>"
      ]
     },
     "execution_count": 13,
     "metadata": {},
     "output_type": "execute_result"
    }
   ],
   "source": [
    "m_lgb.save_model(\"model_eval.lgb\")"
   ]
  },
  {
   "cell_type": "code",
   "execution_count": 14,
   "metadata": {
    "id": "LePcBoT0PcEG"
   },
   "outputs": [
    {
     "name": "stdout",
     "output_type": "stream",
     "text": [
      "0 2016-05-23 00:00:00\n",
      "1 2016-05-24 00:00:00\n",
      "2 2016-05-25 00:00:00\n",
      "3 2016-05-26 00:00:00\n",
      "4 2016-05-27 00:00:00\n",
      "5 2016-05-28 00:00:00\n",
      "6 2016-05-29 00:00:00\n",
      "7 2016-05-30 00:00:00\n",
      "8 2016-05-31 00:00:00\n",
      "9 2016-06-01 00:00:00\n",
      "10 2016-06-02 00:00:00\n",
      "11 2016-06-03 00:00:00\n",
      "12 2016-06-04 00:00:00\n",
      "13 2016-06-05 00:00:00\n",
      "14 2016-06-06 00:00:00\n",
      "15 2016-06-07 00:00:00\n",
      "16 2016-06-08 00:00:00\n",
      "17 2016-06-09 00:00:00\n",
      "18 2016-06-10 00:00:00\n",
      "19 2016-06-11 00:00:00\n",
      "20 2016-06-12 00:00:00\n",
      "21 2016-06-13 00:00:00\n",
      "22 2016-06-14 00:00:00\n",
      "23 2016-06-15 00:00:00\n",
      "24 2016-06-16 00:00:00\n",
      "25 2016-06-17 00:00:00\n",
      "26 2016-06-18 00:00:00\n",
      "27 2016-06-19 00:00:00\n",
      "CPU times: user 45min 20s, sys: 17.6 s, total: 45min 37s\n",
      "Wall time: 40min 46s\n"
     ]
    }
   ],
   "source": [
    "#Predicting future 28 day sales 1 day at a time\n",
    "%%time\n",
    "\n",
    "sub = 0.\n",
    "\n",
    "te = create_dt(False)\n",
    "cols = [f\"F{i}\" for i in range(1,29)]\n",
    "\n",
    "for tdelta in range(0, 28):\n",
    "    day = fday + timedelta(days=tdelta)\n",
    "    print(tdelta, day)\n",
    "    tst = te[(te.date >= day - timedelta(days=max_lags)) & (te.date <= day)].copy()\n",
    "    create_features(tst)\n",
    "    tst = tst.loc[tst.date == day , train_cols]\n",
    "    te.loc[te.date == day, \"sales\"] = m_lgb.predict(tst) \n",
    "\n",
    "\n",
    "#Selecting the rows for prediction days\n",
    "te_sub = te.loc[te.date >= fday, [\"id\", \"sales\"]].copy()\n",
    "\n",
    "#Converting rows to columns for submission\n",
    "te_sub[\"F\"] = [f\"F{rank}\" for rank in te_sub.groupby(\"id\")[\"id\"].cumcount()+1]\n",
    "te_sub = te_sub.set_index([\"id\", \"F\" ]).unstack()[\"sales\"][cols].reset_index()\n",
    "te_sub.fillna(0., inplace = True)\n",
    "te_sub.sort_values(\"id\", inplace = True)\n",
    "te_sub.reset_index(drop=True, inplace = True)\n",
    "\n",
    "sub = te_sub"
   ]
  },
  {
   "cell_type": "code",
   "execution_count": 15,
   "metadata": {
    "id": "fRlkh88OPcEJ"
   },
   "outputs": [
    {
     "data": {
      "text/plain": [
       "(30490, 0)"
      ]
     },
     "execution_count": 15,
     "metadata": {},
     "output_type": "execute_result"
    }
   ],
   "source": [
    "sub.id.nunique(), sub[\"id\"].str.contains(\"validation$\").sum()"
   ]
  },
  {
   "cell_type": "code",
   "execution_count": 16,
   "metadata": {
    "id": "yHuJ6z--PcEM"
   },
   "outputs": [
    {
     "data": {
      "text/plain": [
       "(30490, 29)"
      ]
     },
     "execution_count": 16,
     "metadata": {},
     "output_type": "execute_result"
    }
   ],
   "source": [
    "sub.shape"
   ]
  },
  {
   "cell_type": "code",
   "execution_count": 17,
   "metadata": {
    "id": "kRYANCNaPcEP"
   },
   "outputs": [
    {
     "data": {
      "text/html": [
       "<div>\n",
       "<style scoped>\n",
       "    .dataframe tbody tr th:only-of-type {\n",
       "        vertical-align: middle;\n",
       "    }\n",
       "\n",
       "    .dataframe tbody tr th {\n",
       "        vertical-align: top;\n",
       "    }\n",
       "\n",
       "    .dataframe thead th {\n",
       "        text-align: right;\n",
       "    }\n",
       "</style>\n",
       "<table border=\"1\" class=\"dataframe\">\n",
       "  <thead>\n",
       "    <tr style=\"text-align: right;\">\n",
       "      <th>F</th>\n",
       "      <th>id</th>\n",
       "      <th>F1</th>\n",
       "      <th>F2</th>\n",
       "      <th>F3</th>\n",
       "      <th>F4</th>\n",
       "      <th>F5</th>\n",
       "      <th>F6</th>\n",
       "      <th>F7</th>\n",
       "      <th>F8</th>\n",
       "      <th>F9</th>\n",
       "      <th>F10</th>\n",
       "      <th>F11</th>\n",
       "      <th>F12</th>\n",
       "      <th>F13</th>\n",
       "      <th>F14</th>\n",
       "      <th>F15</th>\n",
       "      <th>F16</th>\n",
       "      <th>F17</th>\n",
       "      <th>F18</th>\n",
       "      <th>F19</th>\n",
       "      <th>F20</th>\n",
       "      <th>F21</th>\n",
       "      <th>F22</th>\n",
       "      <th>F23</th>\n",
       "      <th>F24</th>\n",
       "      <th>F25</th>\n",
       "      <th>F26</th>\n",
       "      <th>F27</th>\n",
       "      <th>F28</th>\n",
       "    </tr>\n",
       "  </thead>\n",
       "  <tbody>\n",
       "    <tr>\n",
       "      <th>30480</th>\n",
       "      <td>HOUSEHOLD_2_516_CA_1_evaluation</td>\n",
       "      <td>0.196804</td>\n",
       "      <td>0.190303</td>\n",
       "      <td>0.173647</td>\n",
       "      <td>0.164056</td>\n",
       "      <td>0.271941</td>\n",
       "      <td>0.281700</td>\n",
       "      <td>0.269095</td>\n",
       "      <td>0.217232</td>\n",
       "      <td>0.185091</td>\n",
       "      <td>0.178228</td>\n",
       "      <td>0.190902</td>\n",
       "      <td>0.234152</td>\n",
       "      <td>0.225553</td>\n",
       "      <td>0.223551</td>\n",
       "      <td>0.154217</td>\n",
       "      <td>0.151678</td>\n",
       "      <td>0.154407</td>\n",
       "      <td>0.143056</td>\n",
       "      <td>0.193281</td>\n",
       "      <td>0.225908</td>\n",
       "      <td>0.228067</td>\n",
       "      <td>0.151253</td>\n",
       "      <td>0.142731</td>\n",
       "      <td>0.138127</td>\n",
       "      <td>0.144285</td>\n",
       "      <td>0.186299</td>\n",
       "      <td>0.218811</td>\n",
       "      <td>0.198264</td>\n",
       "    </tr>\n",
       "    <tr>\n",
       "      <th>30481</th>\n",
       "      <td>HOUSEHOLD_2_516_CA_2_evaluation</td>\n",
       "      <td>0.170984</td>\n",
       "      <td>0.183647</td>\n",
       "      <td>0.177004</td>\n",
       "      <td>0.191395</td>\n",
       "      <td>0.263777</td>\n",
       "      <td>0.355653</td>\n",
       "      <td>0.296765</td>\n",
       "      <td>0.229875</td>\n",
       "      <td>0.192716</td>\n",
       "      <td>0.183933</td>\n",
       "      <td>0.214338</td>\n",
       "      <td>0.262835</td>\n",
       "      <td>0.369481</td>\n",
       "      <td>0.371549</td>\n",
       "      <td>0.216040</td>\n",
       "      <td>0.211279</td>\n",
       "      <td>0.203438</td>\n",
       "      <td>0.200422</td>\n",
       "      <td>0.284238</td>\n",
       "      <td>0.393404</td>\n",
       "      <td>0.364766</td>\n",
       "      <td>0.230025</td>\n",
       "      <td>0.207105</td>\n",
       "      <td>0.214275</td>\n",
       "      <td>0.219429</td>\n",
       "      <td>0.314289</td>\n",
       "      <td>0.509879</td>\n",
       "      <td>0.434026</td>\n",
       "    </tr>\n",
       "    <tr>\n",
       "      <th>30482</th>\n",
       "      <td>HOUSEHOLD_2_516_CA_3_evaluation</td>\n",
       "      <td>0.101907</td>\n",
       "      <td>0.134861</td>\n",
       "      <td>0.138655</td>\n",
       "      <td>0.141720</td>\n",
       "      <td>0.171662</td>\n",
       "      <td>0.199013</td>\n",
       "      <td>0.188777</td>\n",
       "      <td>0.170717</td>\n",
       "      <td>0.126897</td>\n",
       "      <td>0.132792</td>\n",
       "      <td>0.143149</td>\n",
       "      <td>0.165260</td>\n",
       "      <td>0.178000</td>\n",
       "      <td>0.172194</td>\n",
       "      <td>0.135351</td>\n",
       "      <td>0.133268</td>\n",
       "      <td>0.149735</td>\n",
       "      <td>0.151663</td>\n",
       "      <td>0.171479</td>\n",
       "      <td>0.196573</td>\n",
       "      <td>0.185300</td>\n",
       "      <td>0.131158</td>\n",
       "      <td>0.137383</td>\n",
       "      <td>0.154405</td>\n",
       "      <td>0.154408</td>\n",
       "      <td>0.184281</td>\n",
       "      <td>0.215506</td>\n",
       "      <td>0.191459</td>\n",
       "    </tr>\n",
       "    <tr>\n",
       "      <th>30483</th>\n",
       "      <td>HOUSEHOLD_2_516_CA_4_evaluation</td>\n",
       "      <td>0.132683</td>\n",
       "      <td>0.140113</td>\n",
       "      <td>0.140313</td>\n",
       "      <td>0.146131</td>\n",
       "      <td>0.155917</td>\n",
       "      <td>0.178952</td>\n",
       "      <td>0.142979</td>\n",
       "      <td>0.134070</td>\n",
       "      <td>0.123725</td>\n",
       "      <td>0.117100</td>\n",
       "      <td>0.126840</td>\n",
       "      <td>0.142871</td>\n",
       "      <td>0.148714</td>\n",
       "      <td>0.146358</td>\n",
       "      <td>0.123442</td>\n",
       "      <td>0.107739</td>\n",
       "      <td>0.102802</td>\n",
       "      <td>0.108387</td>\n",
       "      <td>0.123648</td>\n",
       "      <td>0.134441</td>\n",
       "      <td>0.131459</td>\n",
       "      <td>0.111373</td>\n",
       "      <td>0.109880</td>\n",
       "      <td>0.112364</td>\n",
       "      <td>0.114937</td>\n",
       "      <td>0.137220</td>\n",
       "      <td>0.150474</td>\n",
       "      <td>0.123820</td>\n",
       "    </tr>\n",
       "    <tr>\n",
       "      <th>30484</th>\n",
       "      <td>HOUSEHOLD_2_516_TX_1_evaluation</td>\n",
       "      <td>0.056705</td>\n",
       "      <td>0.055949</td>\n",
       "      <td>0.055339</td>\n",
       "      <td>0.057925</td>\n",
       "      <td>0.064507</td>\n",
       "      <td>0.076747</td>\n",
       "      <td>0.073188</td>\n",
       "      <td>0.129266</td>\n",
       "      <td>0.115500</td>\n",
       "      <td>0.098968</td>\n",
       "      <td>0.105974</td>\n",
       "      <td>0.115999</td>\n",
       "      <td>0.133248</td>\n",
       "      <td>0.125854</td>\n",
       "      <td>0.102979</td>\n",
       "      <td>0.101214</td>\n",
       "      <td>0.098356</td>\n",
       "      <td>0.127853</td>\n",
       "      <td>0.148077</td>\n",
       "      <td>0.162995</td>\n",
       "      <td>0.157634</td>\n",
       "      <td>0.128846</td>\n",
       "      <td>0.124655</td>\n",
       "      <td>0.127266</td>\n",
       "      <td>0.135483</td>\n",
       "      <td>0.158046</td>\n",
       "      <td>0.179625</td>\n",
       "      <td>0.161194</td>\n",
       "    </tr>\n",
       "    <tr>\n",
       "      <th>30485</th>\n",
       "      <td>HOUSEHOLD_2_516_TX_2_evaluation</td>\n",
       "      <td>0.203598</td>\n",
       "      <td>0.195399</td>\n",
       "      <td>0.190857</td>\n",
       "      <td>0.185437</td>\n",
       "      <td>0.234381</td>\n",
       "      <td>0.276635</td>\n",
       "      <td>0.263680</td>\n",
       "      <td>0.227095</td>\n",
       "      <td>0.179311</td>\n",
       "      <td>0.166687</td>\n",
       "      <td>0.182328</td>\n",
       "      <td>0.223855</td>\n",
       "      <td>0.262402</td>\n",
       "      <td>0.248310</td>\n",
       "      <td>0.156005</td>\n",
       "      <td>0.152537</td>\n",
       "      <td>0.150102</td>\n",
       "      <td>0.153469</td>\n",
       "      <td>0.204535</td>\n",
       "      <td>0.234769</td>\n",
       "      <td>0.217157</td>\n",
       "      <td>0.154936</td>\n",
       "      <td>0.150152</td>\n",
       "      <td>0.141490</td>\n",
       "      <td>0.159582</td>\n",
       "      <td>0.205668</td>\n",
       "      <td>0.244096</td>\n",
       "      <td>0.225897</td>\n",
       "    </tr>\n",
       "    <tr>\n",
       "      <th>30486</th>\n",
       "      <td>HOUSEHOLD_2_516_TX_3_evaluation</td>\n",
       "      <td>0.153028</td>\n",
       "      <td>0.141534</td>\n",
       "      <td>0.134474</td>\n",
       "      <td>0.138585</td>\n",
       "      <td>0.180521</td>\n",
       "      <td>0.238111</td>\n",
       "      <td>0.266273</td>\n",
       "      <td>0.207849</td>\n",
       "      <td>0.181953</td>\n",
       "      <td>0.167342</td>\n",
       "      <td>0.181495</td>\n",
       "      <td>0.232451</td>\n",
       "      <td>0.264511</td>\n",
       "      <td>0.243136</td>\n",
       "      <td>0.175941</td>\n",
       "      <td>0.185829</td>\n",
       "      <td>0.181190</td>\n",
       "      <td>0.175113</td>\n",
       "      <td>0.195310</td>\n",
       "      <td>0.229091</td>\n",
       "      <td>0.230584</td>\n",
       "      <td>0.170311</td>\n",
       "      <td>0.162635</td>\n",
       "      <td>0.166611</td>\n",
       "      <td>0.171918</td>\n",
       "      <td>0.234438</td>\n",
       "      <td>0.276085</td>\n",
       "      <td>0.269427</td>\n",
       "    </tr>\n",
       "    <tr>\n",
       "      <th>30487</th>\n",
       "      <td>HOUSEHOLD_2_516_WI_1_evaluation</td>\n",
       "      <td>0.106169</td>\n",
       "      <td>0.105764</td>\n",
       "      <td>0.107014</td>\n",
       "      <td>0.118542</td>\n",
       "      <td>0.162910</td>\n",
       "      <td>0.189634</td>\n",
       "      <td>0.177679</td>\n",
       "      <td>0.126264</td>\n",
       "      <td>0.110936</td>\n",
       "      <td>0.102149</td>\n",
       "      <td>0.109537</td>\n",
       "      <td>0.147821</td>\n",
       "      <td>0.182315</td>\n",
       "      <td>0.174952</td>\n",
       "      <td>0.120263</td>\n",
       "      <td>0.118249</td>\n",
       "      <td>0.115545</td>\n",
       "      <td>0.122167</td>\n",
       "      <td>0.155525</td>\n",
       "      <td>0.169574</td>\n",
       "      <td>0.157383</td>\n",
       "      <td>0.111372</td>\n",
       "      <td>0.108389</td>\n",
       "      <td>0.111991</td>\n",
       "      <td>0.115209</td>\n",
       "      <td>0.163936</td>\n",
       "      <td>0.194547</td>\n",
       "      <td>0.164577</td>\n",
       "    </tr>\n",
       "    <tr>\n",
       "      <th>30488</th>\n",
       "      <td>HOUSEHOLD_2_516_WI_2_evaluation</td>\n",
       "      <td>0.093552</td>\n",
       "      <td>0.084074</td>\n",
       "      <td>0.085365</td>\n",
       "      <td>0.087175</td>\n",
       "      <td>0.107737</td>\n",
       "      <td>0.106590</td>\n",
       "      <td>0.096473</td>\n",
       "      <td>0.100018</td>\n",
       "      <td>0.093646</td>\n",
       "      <td>0.098030</td>\n",
       "      <td>0.103780</td>\n",
       "      <td>0.126461</td>\n",
       "      <td>0.116272</td>\n",
       "      <td>0.111554</td>\n",
       "      <td>0.095708</td>\n",
       "      <td>0.096388</td>\n",
       "      <td>0.092938</td>\n",
       "      <td>0.096977</td>\n",
       "      <td>0.118315</td>\n",
       "      <td>0.117257</td>\n",
       "      <td>0.107049</td>\n",
       "      <td>0.100633</td>\n",
       "      <td>0.095641</td>\n",
       "      <td>0.098039</td>\n",
       "      <td>0.099182</td>\n",
       "      <td>0.121749</td>\n",
       "      <td>0.120471</td>\n",
       "      <td>0.097466</td>\n",
       "    </tr>\n",
       "    <tr>\n",
       "      <th>30489</th>\n",
       "      <td>HOUSEHOLD_2_516_WI_3_evaluation</td>\n",
       "      <td>0.103589</td>\n",
       "      <td>0.100018</td>\n",
       "      <td>0.101354</td>\n",
       "      <td>0.110252</td>\n",
       "      <td>0.119836</td>\n",
       "      <td>0.117340</td>\n",
       "      <td>0.109056</td>\n",
       "      <td>0.116963</td>\n",
       "      <td>0.106657</td>\n",
       "      <td>0.097961</td>\n",
       "      <td>0.106139</td>\n",
       "      <td>0.136059</td>\n",
       "      <td>0.130730</td>\n",
       "      <td>0.123103</td>\n",
       "      <td>0.099579</td>\n",
       "      <td>0.098089</td>\n",
       "      <td>0.096784</td>\n",
       "      <td>0.100318</td>\n",
       "      <td>0.126217</td>\n",
       "      <td>0.126557</td>\n",
       "      <td>0.124917</td>\n",
       "      <td>0.100674</td>\n",
       "      <td>0.097253</td>\n",
       "      <td>0.099528</td>\n",
       "      <td>0.104350</td>\n",
       "      <td>0.132766</td>\n",
       "      <td>0.139251</td>\n",
       "      <td>0.118756</td>\n",
       "    </tr>\n",
       "  </tbody>\n",
       "</table>\n",
       "</div>"
      ],
      "text/plain": [
       "F                                   id        F1        F2        F3  \\\n",
       "30480  HOUSEHOLD_2_516_CA_1_evaluation  0.196804  0.190303  0.173647   \n",
       "30481  HOUSEHOLD_2_516_CA_2_evaluation  0.170984  0.183647  0.177004   \n",
       "30482  HOUSEHOLD_2_516_CA_3_evaluation  0.101907  0.134861  0.138655   \n",
       "30483  HOUSEHOLD_2_516_CA_4_evaluation  0.132683  0.140113  0.140313   \n",
       "30484  HOUSEHOLD_2_516_TX_1_evaluation  0.056705  0.055949  0.055339   \n",
       "30485  HOUSEHOLD_2_516_TX_2_evaluation  0.203598  0.195399  0.190857   \n",
       "30486  HOUSEHOLD_2_516_TX_3_evaluation  0.153028  0.141534  0.134474   \n",
       "30487  HOUSEHOLD_2_516_WI_1_evaluation  0.106169  0.105764  0.107014   \n",
       "30488  HOUSEHOLD_2_516_WI_2_evaluation  0.093552  0.084074  0.085365   \n",
       "30489  HOUSEHOLD_2_516_WI_3_evaluation  0.103589  0.100018  0.101354   \n",
       "\n",
       "F            F4        F5        F6        F7        F8        F9       F10  \\\n",
       "30480  0.164056  0.271941  0.281700  0.269095  0.217232  0.185091  0.178228   \n",
       "30481  0.191395  0.263777  0.355653  0.296765  0.229875  0.192716  0.183933   \n",
       "30482  0.141720  0.171662  0.199013  0.188777  0.170717  0.126897  0.132792   \n",
       "30483  0.146131  0.155917  0.178952  0.142979  0.134070  0.123725  0.117100   \n",
       "30484  0.057925  0.064507  0.076747  0.073188  0.129266  0.115500  0.098968   \n",
       "30485  0.185437  0.234381  0.276635  0.263680  0.227095  0.179311  0.166687   \n",
       "30486  0.138585  0.180521  0.238111  0.266273  0.207849  0.181953  0.167342   \n",
       "30487  0.118542  0.162910  0.189634  0.177679  0.126264  0.110936  0.102149   \n",
       "30488  0.087175  0.107737  0.106590  0.096473  0.100018  0.093646  0.098030   \n",
       "30489  0.110252  0.119836  0.117340  0.109056  0.116963  0.106657  0.097961   \n",
       "\n",
       "F           F11       F12       F13       F14       F15       F16       F17  \\\n",
       "30480  0.190902  0.234152  0.225553  0.223551  0.154217  0.151678  0.154407   \n",
       "30481  0.214338  0.262835  0.369481  0.371549  0.216040  0.211279  0.203438   \n",
       "30482  0.143149  0.165260  0.178000  0.172194  0.135351  0.133268  0.149735   \n",
       "30483  0.126840  0.142871  0.148714  0.146358  0.123442  0.107739  0.102802   \n",
       "30484  0.105974  0.115999  0.133248  0.125854  0.102979  0.101214  0.098356   \n",
       "30485  0.182328  0.223855  0.262402  0.248310  0.156005  0.152537  0.150102   \n",
       "30486  0.181495  0.232451  0.264511  0.243136  0.175941  0.185829  0.181190   \n",
       "30487  0.109537  0.147821  0.182315  0.174952  0.120263  0.118249  0.115545   \n",
       "30488  0.103780  0.126461  0.116272  0.111554  0.095708  0.096388  0.092938   \n",
       "30489  0.106139  0.136059  0.130730  0.123103  0.099579  0.098089  0.096784   \n",
       "\n",
       "F           F18       F19       F20       F21       F22       F23       F24  \\\n",
       "30480  0.143056  0.193281  0.225908  0.228067  0.151253  0.142731  0.138127   \n",
       "30481  0.200422  0.284238  0.393404  0.364766  0.230025  0.207105  0.214275   \n",
       "30482  0.151663  0.171479  0.196573  0.185300  0.131158  0.137383  0.154405   \n",
       "30483  0.108387  0.123648  0.134441  0.131459  0.111373  0.109880  0.112364   \n",
       "30484  0.127853  0.148077  0.162995  0.157634  0.128846  0.124655  0.127266   \n",
       "30485  0.153469  0.204535  0.234769  0.217157  0.154936  0.150152  0.141490   \n",
       "30486  0.175113  0.195310  0.229091  0.230584  0.170311  0.162635  0.166611   \n",
       "30487  0.122167  0.155525  0.169574  0.157383  0.111372  0.108389  0.111991   \n",
       "30488  0.096977  0.118315  0.117257  0.107049  0.100633  0.095641  0.098039   \n",
       "30489  0.100318  0.126217  0.126557  0.124917  0.100674  0.097253  0.099528   \n",
       "\n",
       "F           F25       F26       F27       F28  \n",
       "30480  0.144285  0.186299  0.218811  0.198264  \n",
       "30481  0.219429  0.314289  0.509879  0.434026  \n",
       "30482  0.154408  0.184281  0.215506  0.191459  \n",
       "30483  0.114937  0.137220  0.150474  0.123820  \n",
       "30484  0.135483  0.158046  0.179625  0.161194  \n",
       "30485  0.159582  0.205668  0.244096  0.225897  \n",
       "30486  0.171918  0.234438  0.276085  0.269427  \n",
       "30487  0.115209  0.163936  0.194547  0.164577  \n",
       "30488  0.099182  0.121749  0.120471  0.097466  \n",
       "30489  0.104350  0.132766  0.139251  0.118756  "
      ]
     },
     "execution_count": 17,
     "metadata": {},
     "output_type": "execute_result"
    }
   ],
   "source": [
    "sub.tail(10)"
   ]
  },
  {
   "cell_type": "code",
   "execution_count": 18,
   "metadata": {},
   "outputs": [],
   "source": [
    "sub.to_csv(\"submission_eval.csv\",index=False)"
   ]
  }
 ],
 "metadata": {
  "kernelspec": {
   "display_name": "Python 3",
   "language": "python",
   "name": "python3"
  },
  "language_info": {
   "codemirror_mode": {
    "name": "ipython",
    "version": 3
   },
   "file_extension": ".py",
   "mimetype": "text/x-python",
   "name": "python",
   "nbconvert_exporter": "python",
   "pygments_lexer": "ipython3",
   "version": "3.7.3"
  }
 },
 "nbformat": 4,
 "nbformat_minor": 4
}
