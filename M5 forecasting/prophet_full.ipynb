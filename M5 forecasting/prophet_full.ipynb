{
 "cells": [
  {
   "cell_type": "code",
   "execution_count": 28,
   "metadata": {},
   "outputs": [],
   "source": [
    "import pandas as pd\n",
    "from fbprophet import Prophet\n",
    "from  datetime import datetime, timedelta\n",
    "import gc\n",
    "import numpy as np\n",
    "import matplotlib.pyplot as plt\n",
    "import warnings\n",
    "warnings.filterwarnings(\"ignore\")"
   ]
  },
  {
   "cell_type": "code",
   "execution_count": 29,
   "metadata": {},
   "outputs": [],
   "source": [
    "cal_dtype = {\"event_name_1\": \"category\", \"event_name_2\": \"category\", \"event_type_1\": \"category\", \n",
    "              \"event_type_2\": \"category\", \"weekday\": \"category\", 'wm_yr_wk': 'int16', \"wday\": \"int16\",\n",
    "              \"month\": \"int16\", \"year\": \"int16\", \"snap_CA\": \"int8\", 'snap_TX': 'int8', 'snap_WI': 'int8'}\n",
    "price_dtype = {\"store_id\": \"category\", \"item_id\": \"category\", \"wm_yr_wk\": \"int16\",\"sell_price\":\"float32\"}"
   ]
  },
  {
   "cell_type": "code",
   "execution_count": 30,
   "metadata": {},
   "outputs": [],
   "source": [
    "dt = pd.read_csv('sales_train_validation.csv')\n",
    "dt = dt.astype({col: 'int32' for col in dt.select_dtypes('int64').columns})"
   ]
  },
  {
   "cell_type": "code",
   "execution_count": 31,
   "metadata": {},
   "outputs": [],
   "source": [
    "cal = pd.read_csv('calendar.csv', dtype = cal_dtype)\n",
    "cal['date'] = pd.to_datetime(cal['date'])\n",
    "cal = cal.astype({col: 'int32' for col in cal.select_dtypes('int64').columns})\n",
    "cal_1 = cal[0:1913]\n",
    "future = cal[1913:1941]"
   ]
  },
  {
   "cell_type": "code",
   "execution_count": 32,
   "metadata": {},
   "outputs": [],
   "source": [
    "hol_1 = cal[['event_name_1', 'date']]\n",
    "hol_1 = hol_1.dropna()\n",
    "hol_1 = hol_1.rename(columns={'date': 'ds', 'event_name_1': 'holiday'})\n",
    "hol_2 = cal[['event_name_2', 'date']]\n",
    "hol_2 = hol_2.dropna()\n",
    "hol_2 = hol_2.rename(columns={'date': 'ds', 'event_name_2': 'holiday'})\n",
    "hol = pd.concat([hol_1, hol_2], axis=0, sort=False)\n",
    "hol['lower_window'] = 0\n",
    "hol['upper_window'] = 1"
   ]
  },
  {
   "cell_type": "code",
   "execution_count": 33,
   "metadata": {},
   "outputs": [],
   "source": [
    "dt_st_dep = dt.groupby(['store_id', 'dept_id'], as_index=False).sum()"
   ]
  },
  {
   "cell_type": "code",
   "execution_count": 34,
   "metadata": {},
   "outputs": [],
   "source": [
    "dt_y_pred = dt[['id','dept_id','store_id', 'd_1886', 'd_1887', 'd_1888', 'd_1889', 'd_1890', 'd_1891',\n",
    "               'd_1892', 'd_1893', 'd_1894', 'd_1895', 'd_1896', 'd_1897', 'd_1898',\n",
    "               'd_1899', 'd_1900', 'd_1901', 'd_1902', 'd_1903', 'd_1904', 'd_1905', 'd_1906',\n",
    "               'd_1907', 'd_1908', 'd_1909', 'd_1910', 'd_1911', 'd_1912', 'd_1913',]]\n",
    "d_id = dt_y_pred.dept_id.unique()\n",
    "d_id_lst = d_id.tolist()\n",
    "st_id = dt_y_pred.store_id.unique()\n",
    "st_id_lst = st_id.tolist()"
   ]
  },
  {
   "cell_type": "code",
   "execution_count": 35,
   "metadata": {},
   "outputs": [],
   "source": [
    "df_sub = pd.DataFrame(columns = ['id','dept_id','store_id', 'd_1886', 'd_1887', 'd_1888', 'd_1889', 'd_1890', 'd_1891',\n",
    "               'd_1892', 'd_1893', 'd_1894', 'd_1895', 'd_1896', 'd_1897', 'd_1898',\n",
    "               'd_1899', 'd_1900', 'd_1901', 'd_1902', 'd_1903', 'd_1904', 'd_1905', 'd_1906',\n",
    "               'd_1907', 'd_1908', 'd_1909', 'd_1910', 'd_1911', 'd_1912', 'd_1913',])"
   ]
  },
  {
   "cell_type": "code",
   "execution_count": 36,
   "metadata": {},
   "outputs": [
    {
     "name": "stdout",
     "output_type": "stream",
     "text": [
      "CA_1 HOBBIES_1\n",
      "CA_1 HOBBIES_2\n",
      "CA_1 HOUSEHOLD_1\n",
      "CA_1 HOUSEHOLD_2\n",
      "CA_1 FOODS_1\n",
      "CA_1 FOODS_2\n",
      "CA_1 FOODS_3\n",
      "CA_2 HOBBIES_1\n",
      "CA_2 HOBBIES_2\n",
      "CA_2 HOUSEHOLD_1\n",
      "CA_2 HOUSEHOLD_2\n",
      "CA_2 FOODS_1\n",
      "CA_2 FOODS_2\n",
      "CA_2 FOODS_3\n",
      "CA_3 HOBBIES_1\n",
      "CA_3 HOBBIES_2\n",
      "CA_3 HOUSEHOLD_1\n",
      "CA_3 HOUSEHOLD_2\n",
      "CA_3 FOODS_1\n",
      "CA_3 FOODS_2\n",
      "CA_3 FOODS_3\n",
      "CA_4 HOBBIES_1\n",
      "CA_4 HOBBIES_2\n",
      "CA_4 HOUSEHOLD_1\n",
      "CA_4 HOUSEHOLD_2\n",
      "CA_4 FOODS_1\n",
      "CA_4 FOODS_2\n",
      "CA_4 FOODS_3\n",
      "TX_1 HOBBIES_1\n",
      "TX_1 HOBBIES_2\n",
      "TX_1 HOUSEHOLD_1\n",
      "TX_1 HOUSEHOLD_2\n",
      "TX_1 FOODS_1\n",
      "TX_1 FOODS_2\n",
      "TX_1 FOODS_3\n",
      "TX_2 HOBBIES_1\n",
      "TX_2 HOBBIES_2\n",
      "TX_2 HOUSEHOLD_1\n",
      "TX_2 HOUSEHOLD_2\n",
      "TX_2 FOODS_1\n",
      "TX_2 FOODS_2\n",
      "TX_2 FOODS_3\n",
      "TX_3 HOBBIES_1\n",
      "TX_3 HOBBIES_2\n",
      "TX_3 HOUSEHOLD_1\n",
      "TX_3 HOUSEHOLD_2\n",
      "TX_3 FOODS_1\n",
      "TX_3 FOODS_2\n",
      "TX_3 FOODS_3\n",
      "WI_1 HOBBIES_1\n",
      "WI_1 HOBBIES_2\n",
      "WI_1 HOUSEHOLD_1\n",
      "WI_1 HOUSEHOLD_2\n",
      "WI_1 FOODS_1\n",
      "WI_1 FOODS_2\n",
      "WI_1 FOODS_3\n",
      "WI_2 HOBBIES_1\n",
      "WI_2 HOBBIES_2\n",
      "WI_2 HOUSEHOLD_1\n",
      "WI_2 HOUSEHOLD_2\n",
      "WI_2 FOODS_1\n",
      "WI_2 FOODS_2\n",
      "WI_2 FOODS_3\n",
      "WI_3 HOBBIES_1\n",
      "WI_3 HOBBIES_2\n",
      "WI_3 HOUSEHOLD_1\n",
      "WI_3 HOUSEHOLD_2\n",
      "WI_3 FOODS_1\n",
      "WI_3 FOODS_2\n",
      "WI_3 FOODS_3\n"
     ]
    }
   ],
   "source": [
    "for st_id in st_id_lst:\n",
    "    for dp_id in d_id_lst:\n",
    "        d_id = dp_id\n",
    "        s_id = st_id\n",
    "        print(s_id, d_id)\n",
    "        hob1_st1 = dt_y_pred.loc[(dt_y_pred['dept_id'] == d_id) & (dt_y_pred['store_id'] == s_id)]\n",
    "\n",
    "        dt_st_dep_n = dt_st_dep.loc[(dt_st_dep['dept_id'] == d_id) & (dt_st_dep['store_id'] == s_id)]\n",
    "        div_coeff_28 = dt_st_dep_n[['store_id','dept_id', 'd_1886', 'd_1887', 'd_1888', 'd_1889', 'd_1890', 'd_1891',\n",
    "                       'd_1892', 'd_1893', 'd_1894', 'd_1895', 'd_1896', 'd_1897', 'd_1898',\n",
    "                       'd_1899', 'd_1900', 'd_1901', 'd_1902', 'd_1903', 'd_1904', 'd_1905', 'd_1906',\n",
    "                       'd_1907', 'd_1908', 'd_1909', 'd_1910', 'd_1911', 'd_1912', 'd_1913',]]\n",
    "        div_coeff_28 = div_coeff_28.reset_index(drop=True)\n",
    "        div_coeff_lst = div_coeff_28.loc[0, :].values.tolist()\n",
    "\n",
    "        hob1_st1['d_1886'] = hob1_st1['d_1886']/div_coeff_lst[2]\n",
    "        hob1_st1['d_1887'] = hob1_st1['d_1887']/div_coeff_lst[3]\n",
    "        hob1_st1['d_1888'] = hob1_st1['d_1888']/div_coeff_lst[4]\n",
    "        hob1_st1['d_1889'] = hob1_st1['d_1889']/div_coeff_lst[5]\n",
    "        hob1_st1['d_1890'] = hob1_st1['d_1890']/div_coeff_lst[6]\n",
    "        hob1_st1['d_1891'] = hob1_st1['d_1891']/div_coeff_lst[7]\n",
    "        hob1_st1['d_1892'] = hob1_st1['d_1892']/div_coeff_lst[8]\n",
    "        hob1_st1['d_1893'] = hob1_st1['d_1893']/div_coeff_lst[9]\n",
    "        hob1_st1['d_1894'] = hob1_st1['d_1894']/div_coeff_lst[10]\n",
    "        hob1_st1['d_1895'] = hob1_st1['d_1895']/div_coeff_lst[11]\n",
    "        hob1_st1['d_1896'] = hob1_st1['d_1896']/div_coeff_lst[12]\n",
    "        hob1_st1['d_1897'] = hob1_st1['d_1897']/div_coeff_lst[13]\n",
    "        hob1_st1['d_1898'] = hob1_st1['d_1898']/div_coeff_lst[14]\n",
    "        hob1_st1['d_1899'] = hob1_st1['d_1899']/div_coeff_lst[15]\n",
    "        hob1_st1['d_1900'] = hob1_st1['d_1900']/div_coeff_lst[16]\n",
    "        hob1_st1['d_1901'] = hob1_st1['d_1901']/div_coeff_lst[17]\n",
    "        hob1_st1['d_1902'] = hob1_st1['d_1902']/div_coeff_lst[18]\n",
    "        hob1_st1['d_1903'] = hob1_st1['d_1903']/div_coeff_lst[19]\n",
    "        hob1_st1['d_1904'] = hob1_st1['d_1904']/div_coeff_lst[20]\n",
    "        hob1_st1['d_1905'] = hob1_st1['d_1905']/div_coeff_lst[21]\n",
    "        hob1_st1['d_1906'] = hob1_st1['d_1906']/div_coeff_lst[22]\n",
    "        hob1_st1['d_1907'] = hob1_st1['d_1907']/div_coeff_lst[23]\n",
    "        hob1_st1['d_1908'] = hob1_st1['d_1908']/div_coeff_lst[24]\n",
    "        hob1_st1['d_1909'] = hob1_st1['d_1909']/div_coeff_lst[25]\n",
    "        hob1_st1['d_1910'] = hob1_st1['d_1910']/div_coeff_lst[26]\n",
    "        hob1_st1['d_1911'] = hob1_st1['d_1911']/div_coeff_lst[27]\n",
    "        hob1_st1['d_1912'] = hob1_st1['d_1912']/div_coeff_lst[28]\n",
    "        hob1_st1['d_1913'] = hob1_st1['d_1913']/div_coeff_lst[29]\n",
    "\n",
    "\n",
    "        catcols = ['store_id', 'dept_id']\n",
    "        dt_st_dep_n = pd.melt(dt_st_dep_n, \n",
    "                            id_vars = catcols, \n",
    "                            value_vars = [col for col in dt_st_dep_n.columns if col.startswith('d_')], \n",
    "                            var_name = 'd', \n",
    "                            value_name = 'sales')\n",
    "        dt_st_dep_n = dt_st_dep_n.merge(cal, on= \"d\", copy = False)\n",
    "        df_train = dt_st_dep_n\n",
    "\n",
    "        tr_chk = df_train[['date', 'sales']]\n",
    "        tr_chk = tr_chk.rename(columns={'date': 'ds', 'sales': 'y'})\n",
    "        fut = future[['date']]\n",
    "        fut = fut.rename(columns={'date': 'ds'})\n",
    "        m = Prophet(holidays=hol, daily_seasonality=True)\n",
    "        if (s_id.split('_')[0] == 'CA'):\n",
    "            tr_chk['snap'] = df_train['snap_CA']\n",
    "            fut['snap'] = future['snap_CA']\n",
    "        elif (s_id.split('_')[0] == 'TX'):\n",
    "            tr_chk['snap'] = df_train['snap_TX']\n",
    "            fut['snap'] = future['snap_TX']\n",
    "        else:\n",
    "            tr_chk['snap'] = df_train['snap_WI']\n",
    "            fut['snap'] = future['snap_WI']\n",
    "        m.add_regressor('snap')\n",
    "        forecast = m.fit(tr_chk).predict(fut)\n",
    "        y_pred = forecast['yhat'].values.tolist()\n",
    "\n",
    "        hob1_st1['d_1886'] = hob1_st1['d_1886']*y_pred[0]\n",
    "        hob1_st1['d_1887'] = hob1_st1['d_1887']*y_pred[1]\n",
    "        hob1_st1['d_1888'] = hob1_st1['d_1888']*y_pred[2]\n",
    "        hob1_st1['d_1889'] = hob1_st1['d_1889']*y_pred[3]\n",
    "        hob1_st1['d_1890'] = hob1_st1['d_1890']*y_pred[4]\n",
    "        hob1_st1['d_1891'] = hob1_st1['d_1891']*y_pred[5]\n",
    "        hob1_st1['d_1892'] = hob1_st1['d_1892']*y_pred[6]\n",
    "        hob1_st1['d_1893'] = hob1_st1['d_1893']*y_pred[7]\n",
    "        hob1_st1['d_1894'] = hob1_st1['d_1894']*y_pred[8]\n",
    "        hob1_st1['d_1895'] = hob1_st1['d_1895']*y_pred[9]\n",
    "        hob1_st1['d_1896'] = hob1_st1['d_1896']*y_pred[10]\n",
    "        hob1_st1['d_1897'] = hob1_st1['d_1897']*y_pred[11]\n",
    "        hob1_st1['d_1898'] = hob1_st1['d_1898']*y_pred[12]\n",
    "        hob1_st1['d_1899'] = hob1_st1['d_1899']*y_pred[13]\n",
    "        hob1_st1['d_1900'] = hob1_st1['d_1900']*y_pred[14]\n",
    "        hob1_st1['d_1901'] = hob1_st1['d_1901']*y_pred[15]\n",
    "        hob1_st1['d_1902'] = hob1_st1['d_1902']*y_pred[16]\n",
    "        hob1_st1['d_1903'] = hob1_st1['d_1903']*y_pred[17]\n",
    "        hob1_st1['d_1904'] = hob1_st1['d_1904']*y_pred[18]\n",
    "        hob1_st1['d_1905'] = hob1_st1['d_1905']*y_pred[19]\n",
    "        hob1_st1['d_1906'] = hob1_st1['d_1906']*y_pred[20]\n",
    "        hob1_st1['d_1907'] = hob1_st1['d_1907']*y_pred[21]\n",
    "        hob1_st1['d_1908'] = hob1_st1['d_1908']*y_pred[22]\n",
    "        hob1_st1['d_1909'] = hob1_st1['d_1909']*y_pred[23]\n",
    "        hob1_st1['d_1910'] = hob1_st1['d_1910']*y_pred[24]\n",
    "        hob1_st1['d_1911'] = hob1_st1['d_1911']*y_pred[25]\n",
    "        hob1_st1['d_1912'] = hob1_st1['d_1912']*y_pred[26]\n",
    "        hob1_st1['d_1913'] = hob1_st1['d_1913']*y_pred[27]\n",
    "\n",
    "        df_sub = pd.concat([df_sub, hob1_st1], axis=0, sort=False)"
   ]
  },
  {
   "cell_type": "code",
   "execution_count": 37,
   "metadata": {},
   "outputs": [
    {
     "name": "stdout",
     "output_type": "stream",
     "text": [
      "<class 'pandas.core.frame.DataFrame'>\n",
      "Int64Index: 30490 entries, 0 to 30489\n",
      "Data columns (total 31 columns):\n",
      "id          30490 non-null object\n",
      "dept_id     30490 non-null object\n",
      "store_id    30490 non-null object\n",
      "d_1886      30490 non-null float64\n",
      "d_1887      30490 non-null float64\n",
      "d_1888      30490 non-null float64\n",
      "d_1889      30490 non-null float64\n",
      "d_1890      30490 non-null float64\n",
      "d_1891      30490 non-null float64\n",
      "d_1892      30490 non-null float64\n",
      "d_1893      30490 non-null float64\n",
      "d_1894      30490 non-null float64\n",
      "d_1895      30490 non-null float64\n",
      "d_1896      30490 non-null float64\n",
      "d_1897      30490 non-null float64\n",
      "d_1898      30490 non-null float64\n",
      "d_1899      30490 non-null float64\n",
      "d_1900      30490 non-null float64\n",
      "d_1901      30490 non-null float64\n",
      "d_1902      30490 non-null float64\n",
      "d_1903      30490 non-null float64\n",
      "d_1904      30490 non-null float64\n",
      "d_1905      30490 non-null float64\n",
      "d_1906      30490 non-null float64\n",
      "d_1907      30490 non-null float64\n",
      "d_1908      30490 non-null float64\n",
      "d_1909      30490 non-null float64\n",
      "d_1910      30490 non-null float64\n",
      "d_1911      30490 non-null float64\n",
      "d_1912      30490 non-null float64\n",
      "d_1913      30490 non-null float64\n",
      "dtypes: float64(28), object(3)\n",
      "memory usage: 7.4+ MB\n"
     ]
    }
   ],
   "source": [
    "df_sub.info()"
   ]
  },
  {
   "cell_type": "code",
   "execution_count": 38,
   "metadata": {},
   "outputs": [],
   "source": [
    "df_sub_2 = df_sub.drop(['store_id', 'dept_id'], axis=1)  \n",
    "COLUMN_NAMES = ['id', 'F1','F2','F3','F4','F5','F6','F7','F8','F9','F10','F11','F12','F13','F14','F15','F16','F17','F18','F19',\n",
    "               'F20', 'F21','F22','F23','F24','F25','F26','F27','F28']\n",
    "df_sub_2.columns = COLUMN_NAMES\n",
    "df_sub_c = df_sub_2.copy()\n",
    "df_sub_c[\"id\"] = df_sub_c[\"id\"].str.replace(\"validation$\", \"evaluation\")\n",
    "df_sub_2 = pd.concat([df_sub_2, df_sub_c], axis=0, sort=False)\n",
    "df_sub_2.to_csv(\"submission_pro_snap.csv\",index=False)"
   ]
  },
  {
   "cell_type": "code",
   "execution_count": 39,
   "metadata": {},
   "outputs": [
    {
     "data": {
      "text/plain": [
       "(60980, 30490)"
      ]
     },
     "execution_count": 39,
     "metadata": {},
     "output_type": "execute_result"
    }
   ],
   "source": [
    "df_sub_2.id.nunique(), df_sub_2[\"id\"].str.contains(\"validation$\").sum()"
   ]
  },
  {
   "cell_type": "code",
   "execution_count": 40,
   "metadata": {},
   "outputs": [
    {
     "data": {
      "text/plain": [
       "(60980, 29)"
      ]
     },
     "execution_count": 40,
     "metadata": {},
     "output_type": "execute_result"
    }
   ],
   "source": [
    "df_sub_2.shape"
   ]
  }
 ],
 "metadata": {
  "kernelspec": {
   "display_name": "Python 3",
   "language": "python",
   "name": "python3"
  },
  "language_info": {
   "codemirror_mode": {
    "name": "ipython",
    "version": 3
   },
   "file_extension": ".py",
   "mimetype": "text/x-python",
   "name": "python",
   "nbconvert_exporter": "python",
   "pygments_lexer": "ipython3",
   "version": "3.7.3"
  }
 },
 "nbformat": 4,
 "nbformat_minor": 4
}
