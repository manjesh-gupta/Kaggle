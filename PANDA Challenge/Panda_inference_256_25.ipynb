{
 "cells": [
  {
   "cell_type": "code",
   "execution_count": 1,
   "metadata": {
    "_cell_guid": "79c7e3d0-c299-4dcb-8224-4455121ee9b0",
    "_uuid": "d629ff2d2480ee46fbb7e2d37f6b5fab8052498a"
   },
   "outputs": [],
   "source": [
    "import numpy as np # linear algebra\n",
    "import pandas as pd # data processing, CSV file I/O (e.g. pd.read_csv)\n",
    "import os\n",
    "from skimage import io\n",
    "from matplotlib.pyplot import imshow\n",
    "import matplotlib.pyplot as plt\n",
    "import h5py\n",
    "import gc\n",
    "from sklearn.model_selection import train_test_split\n",
    "from sklearn.metrics import cohen_kappa_score\n",
    "import cv2\n",
    "import zipfile"
   ]
  },
  {
   "cell_type": "code",
   "execution_count": 2,
   "metadata": {},
   "outputs": [
    {
     "name": "stdout",
     "output_type": "stream",
     "text": [
      "Looking in links: ./\r\n",
      "Processing /kaggle/input/panda-models/Keras_Applications-1.0.8/Keras_Applications-1.0.8\r\n",
      "Requirement already satisfied: numpy>=1.9.1 in /opt/conda/lib/python3.7/site-packages (from Keras-Applications==1.0.8) (1.18.1)\r\n",
      "Requirement already satisfied: h5py in /opt/conda/lib/python3.7/site-packages (from Keras-Applications==1.0.8) (2.10.0)\r\n",
      "Requirement already satisfied: six in /opt/conda/lib/python3.7/site-packages (from h5py->Keras-Applications==1.0.8) (1.14.0)\r\n",
      "Building wheels for collected packages: Keras-Applications\r\n",
      "  Building wheel for Keras-Applications (setup.py) ... \u001b[?25l-\b \b\\\b \bdone\r\n",
      "\u001b[?25h  Created wheel for Keras-Applications: filename=Keras_Applications-1.0.8-py3-none-any.whl size=50704 sha256=e9c0217b86b05c4c203e26e7740fa7d6d043250cf8c037b953ca1e14593d4fe3\r\n",
      "  Stored in directory: /root/.cache/pip/wheels/78/37/20/f4bdc07249590d65a2643f044f1795c52671f0cebf6012057b\r\n",
      "Successfully built Keras-Applications\r\n",
      "Installing collected packages: Keras-Applications\r\n",
      "Successfully installed Keras-Applications-1.0.8\r\n"
     ]
    }
   ],
   "source": [
    "!pip install ../input/panda-models/Keras_Applications-1.0.8/Keras_Applications-1.0.8 -f ./ --no-index"
   ]
  },
  {
   "cell_type": "code",
   "execution_count": 3,
   "metadata": {},
   "outputs": [
    {
     "name": "stdout",
     "output_type": "stream",
     "text": [
      "Looking in links: ./\r\n",
      "Processing /kaggle/input/panda-models/efficientnet-1.1.0/efficientnet-1.1.0\r\n",
      "Requirement already satisfied: keras_applications<=1.0.8,>=1.0.7 in /opt/conda/lib/python3.7/site-packages (from efficientnet==1.1.0) (1.0.8)\r\n",
      "Requirement already satisfied: scikit-image in /opt/conda/lib/python3.7/site-packages (from efficientnet==1.1.0) (0.16.2)\r\n",
      "Requirement already satisfied: numpy>=1.9.1 in /opt/conda/lib/python3.7/site-packages (from keras_applications<=1.0.8,>=1.0.7->efficientnet==1.1.0) (1.18.1)\r\n",
      "Requirement already satisfied: h5py in /opt/conda/lib/python3.7/site-packages (from keras_applications<=1.0.8,>=1.0.7->efficientnet==1.1.0) (2.10.0)\r\n",
      "Requirement already satisfied: scipy>=0.19.0 in /opt/conda/lib/python3.7/site-packages (from scikit-image->efficientnet==1.1.0) (1.4.1)\r\n",
      "Requirement already satisfied: matplotlib!=3.0.0,>=2.0.0 in /opt/conda/lib/python3.7/site-packages (from scikit-image->efficientnet==1.1.0) (3.2.1)\r\n",
      "Requirement already satisfied: networkx>=2.0 in /opt/conda/lib/python3.7/site-packages (from scikit-image->efficientnet==1.1.0) (2.4)\r\n",
      "Requirement already satisfied: pillow>=4.3.0 in /opt/conda/lib/python3.7/site-packages (from scikit-image->efficientnet==1.1.0) (5.4.1)\r\n",
      "Requirement already satisfied: imageio>=2.3.0 in /opt/conda/lib/python3.7/site-packages (from scikit-image->efficientnet==1.1.0) (2.8.0)\r\n",
      "Requirement already satisfied: PyWavelets>=0.4.0 in /opt/conda/lib/python3.7/site-packages (from scikit-image->efficientnet==1.1.0) (1.1.1)\r\n",
      "Requirement already satisfied: six in /opt/conda/lib/python3.7/site-packages (from h5py->keras_applications<=1.0.8,>=1.0.7->efficientnet==1.1.0) (1.14.0)\r\n",
      "Requirement already satisfied: python-dateutil>=2.1 in /opt/conda/lib/python3.7/site-packages (from matplotlib!=3.0.0,>=2.0.0->scikit-image->efficientnet==1.1.0) (2.8.1)\r\n",
      "Requirement already satisfied: cycler>=0.10 in /opt/conda/lib/python3.7/site-packages (from matplotlib!=3.0.0,>=2.0.0->scikit-image->efficientnet==1.1.0) (0.10.0)\r\n",
      "Requirement already satisfied: pyparsing!=2.0.4,!=2.1.2,!=2.1.6,>=2.0.1 in /opt/conda/lib/python3.7/site-packages (from matplotlib!=3.0.0,>=2.0.0->scikit-image->efficientnet==1.1.0) (2.4.7)\r\n",
      "Requirement already satisfied: kiwisolver>=1.0.1 in /opt/conda/lib/python3.7/site-packages (from matplotlib!=3.0.0,>=2.0.0->scikit-image->efficientnet==1.1.0) (1.2.0)\r\n",
      "Requirement already satisfied: decorator>=4.3.0 in /opt/conda/lib/python3.7/site-packages (from networkx>=2.0->scikit-image->efficientnet==1.1.0) (4.4.2)\r\n",
      "Building wheels for collected packages: efficientnet\r\n",
      "  Building wheel for efficientnet (setup.py) ... \u001b[?25l-\b \b\\\b \bdone\r\n",
      "\u001b[?25h  Created wheel for efficientnet: filename=efficientnet-1.1.0-py3-none-any.whl size=14141 sha256=070ad5ae9b5fc4ff700721561955b96008be7a0d1d92eb3af4a4259ccf7c012d\r\n",
      "  Stored in directory: /root/.cache/pip/wheels/74/53/6b/c7c5f7f1a0c39debf15a3754d43761919e2524919d66720197\r\n",
      "Successfully built efficientnet\r\n",
      "Installing collected packages: efficientnet\r\n",
      "Successfully installed efficientnet-1.1.0\r\n"
     ]
    }
   ],
   "source": [
    "!pip install ../input/panda-models/efficientnet-1.1.0/efficientnet-1.1.0 -f ./ --no-index"
   ]
  },
  {
   "cell_type": "code",
   "execution_count": 4,
   "metadata": {},
   "outputs": [
    {
     "name": "stderr",
     "output_type": "stream",
     "text": [
      "Using TensorFlow backend.\n"
     ]
    }
   ],
   "source": [
    "import tensorflow as tf\n",
    "from keras.layers import Dense\n",
    "from keras.layers import Flatten\n",
    "from keras.layers import BatchNormalization, Dropout, GlobalAveragePooling2D\n",
    "from keras.optimizers import Adam\n",
    "from keras import applications\n",
    "from efficientnet.keras import EfficientNetB4\n",
    "from keras import callbacks\n",
    "from keras.models import Sequential\n",
    "import tensorflow_addons as tfa\n",
    "from sklearn.metrics import confusion_matrix\n",
    "import keras.backend as K"
   ]
  },
  {
   "cell_type": "code",
   "execution_count": 5,
   "metadata": {},
   "outputs": [
    {
     "name": "stdout",
     "output_type": "stream",
     "text": [
      "(1280, 1280, 3)\n"
     ]
    }
   ],
   "source": [
    "sz = 256\n",
    "N = 25\n",
    "N_row = 5\n",
    "x_new = sz*N_row\n",
    "y_new = sz*N_row\n",
    "input_sh = (x_new,y_new,3)\n",
    "classes = 6\n",
    "print(input_sh)"
   ]
  },
  {
   "cell_type": "code",
   "execution_count": 6,
   "metadata": {},
   "outputs": [],
   "source": [
    "pre_test_path = '../input/panda-models/sub_test/sub_test'\n",
    "test_path = '../input/prostate-cancer-grade-assessment/test_images'\n",
    "OUT_TRAIN = 'medium_25_256_256.zip'\n",
    "dir_p = './'"
   ]
  },
  {
   "cell_type": "code",
   "execution_count": 7,
   "metadata": {},
   "outputs": [],
   "source": [
    "def tile(img):\n",
    "    result = []\n",
    "    shape = img.shape\n",
    "    pad0,pad1 = (sz - shape[0]%sz)%sz, (sz - shape[1]%sz)%sz\n",
    "    \n",
    "    img = np.pad(img,[[pad0//2,pad0-pad0//2],[pad1//2,pad1-pad1//2],[0,0]],\n",
    "                constant_values=255)\n",
    "    \n",
    "    #mask = np.pad(mask,[[pad0//2,pad0-pad0//2],[pad1//2,pad1-pad1//2],[0,0]],\n",
    "    #            constant_values=0)\n",
    "    \n",
    "    img = img.reshape(img.shape[0]//sz,sz,img.shape[1]//sz,sz,3)\n",
    "    img = img.transpose(0,2,1,3,4).reshape(-1,sz,sz,3)\n",
    "    \n",
    "    #mask = mask.reshape(mask.shape[0]//sz,sz,mask.shape[1]//sz,sz,3)\n",
    "    #mask = mask.transpose(0,2,1,3,4).reshape(-1,sz,sz,3)\n",
    "    \n",
    "    if len(img) < N:\n",
    "        #mask = np.pad(mask,[[0,N-len(img)],[0,0],[0,0],[0,0]],constant_values=0)\n",
    "        img = np.pad(img,[[0,N-len(img)],[0,0],[0,0],[0,0]],constant_values=255)\n",
    "    idxs = np.argsort(img.reshape(img.shape[0],-1).sum(-1))[:N]\n",
    "    img = img[idxs]\n",
    "    \n",
    "    #mask = mask[idxs]\n",
    "    for i in range(len(img)):\n",
    "        result.append({'img':img[i], 'idx':i})\n",
    "    return result"
   ]
  },
  {
   "cell_type": "code",
   "execution_count": 8,
   "metadata": {},
   "outputs": [],
   "source": [
    "def get_test(img, name):\n",
    "    \n",
    "    img_tiles = tile(img)\n",
    "    \n",
    "    with zipfile.ZipFile(OUT_TRAIN, 'w') as img_out:\n",
    "        for t in img_tiles:\n",
    "            img,idx = t['img'],t['idx']\n",
    "            img = cv2.imencode('.png',cv2.cvtColor(img, cv2.COLOR_RGB2BGR))[1]\n",
    "            img_out.writestr(f'{name}_{idx}.png', img)\n",
    "\n",
    "    file_name = dir_p+OUT_TRAIN\n",
    "    \n",
    "    with zipfile.ZipFile(file_name, 'r') as zip: \n",
    "        zip.extractall()\n",
    "\n",
    "    comb_img = np.zeros(shape=(N,sz,sz,3), dtype='int16')\n",
    "    for i in range(N):\n",
    "        path = dir_p +name+'_'+str(i)+'.png'\n",
    "        img_temp = io.imread(path)\n",
    "        comb_img[i] = img_temp\n",
    "\n",
    "    comb_img_s = np.copy(comb_img)\n",
    "    np.random.shuffle(comb_img_s)\n",
    "\n",
    "    comb_img = comb_img.reshape(N_row, N_row, sz,sz,3)\n",
    "    comb_img = comb_img.transpose(0,2,1,3,4)\n",
    "    comb_img = comb_img.reshape(x_new,y_new, 3)\n",
    "    comb_img = (comb_img/255).astype('float32')\n",
    "\n",
    "    comb_img_s = comb_img_s.reshape(N_row, N_row, sz,sz,3)\n",
    "    comb_img_s = comb_img_s.transpose(0,2,1,3,4)\n",
    "    comb_img_s = comb_img_s.reshape(x_new,y_new, 3)\n",
    "    comb_img_s = (comb_img_s/255).astype('float32')\n",
    "\n",
    "    os.remove(file_name)\n",
    "    for i in range(N):\n",
    "        name_t = dir_p+name+'_'+str(i)+'.png'\n",
    "        os.remove(name_t)\n",
    "    \n",
    "    return comb_img, comb_img_s"
   ]
  },
  {
   "cell_type": "code",
   "execution_count": 9,
   "metadata": {},
   "outputs": [],
   "source": [
    "#img_t = io.MultiImage('../input/panda-models/sub_test/sub_test/003046e27c8ead3e3db155780dc5498e.tiff')[1]\n",
    "#name = '003046e27c8ead3e3db155780dc5498e'\n",
    "#temp_img, temp_img_s = get_test(img_t, name)"
   ]
  },
  {
   "cell_type": "code",
   "execution_count": 10,
   "metadata": {},
   "outputs": [],
   "source": [
    "#img_12 = io.imread('../input/panda-models/sub_test/sub_test/003046e27c8ead3e3db155780dc5498e.tiff')\n",
    "#plt.imshow(img_12, aspect='auto')\n",
    "#plt.show()"
   ]
  },
  {
   "cell_type": "code",
   "execution_count": 11,
   "metadata": {},
   "outputs": [],
   "source": [
    "#plt.imshow(temp_img, aspect='auto')\n",
    "#plt.show()"
   ]
  },
  {
   "cell_type": "code",
   "execution_count": 12,
   "metadata": {},
   "outputs": [],
   "source": [
    "#plt.imshow(temp_img_s, aspect='auto')\n",
    "#plt.show()"
   ]
  },
  {
   "cell_type": "code",
   "execution_count": 13,
   "metadata": {},
   "outputs": [],
   "source": [
    "model2 = tf.keras.models.load_model('../input/panda-models/model_en0_med_256_25_tob_ep_20.h5')"
   ]
  },
  {
   "cell_type": "code",
   "execution_count": 14,
   "metadata": {},
   "outputs": [],
   "source": [
    "file_path =[]\n",
    "file_name = []\n",
    "sub = pd.DataFrame(columns=['image_id','isup_grade'])\n",
    "if os.path.exists(test_path):\n",
    "    for dirname, _, filenames in os.walk(test_path):\n",
    "        for filename in filenames:\n",
    "            file_path.append(os.path.join(dirname, filename))\n",
    "            file_name.append(filename)\n",
    "    for i, fp in enumerate(file_path):\n",
    "        img = io.MultiImage(fp)[1]\n",
    "        name = file_name[i].split('.')[0]\n",
    "        img_arr, img_arr_s = get_test(img, name)\n",
    "        img_arr = img_arr.reshape(1, x_new,y_new, 3)\n",
    "        img_arr_s = img_arr_s.reshape(1, x_new,y_new, 3)\n",
    "        y = model2.predict(img_arr)\n",
    "        y_p = np.argmax(y, axis=1)\n",
    "        y_p_int = y_p[0]\n",
    "        id_tst = file_name[i].split('.')[0]\n",
    "        pred = [id_tst, y_p_int]\n",
    "        sub.loc[len(sub)] = pred\n",
    "else:\n",
    "    for dirname, _, filenames in os.walk(pre_test_path):\n",
    "        for filename in filenames:\n",
    "            file_path.append(os.path.join(dirname, filename))\n",
    "            file_name.append(filename)\n",
    "    for i, fp in enumerate(file_path):\n",
    "        img = io.MultiImage(fp)[1]\n",
    "        name = file_name[i].split('.')[0]\n",
    "        img_arr, img_arr_s = get_test(img, name)\n",
    "        img_arr = img_arr.reshape(1, x_new,y_new, 3)\n",
    "        img_arr_s = img_arr_s.reshape(1, x_new,y_new, 3)\n",
    "        y = model2.predict(img_arr)\n",
    "        y_p = np.argmax(y, axis=1)\n",
    "        y_p_int = y_p[0]\n",
    "        id_tst = file_name[i].split('.')[0]\n",
    "        pred = [id_tst, y_p_int]\n",
    "        sub.loc[len(sub)] = pred"
   ]
  },
  {
   "cell_type": "code",
   "execution_count": 15,
   "metadata": {},
   "outputs": [],
   "source": [
    "sub.to_csv('submission.csv', index=False)"
   ]
  }
 ],
 "metadata": {
  "kernelspec": {
   "display_name": "Python 3",
   "language": "python",
   "name": "python3"
  },
  "language_info": {
   "codemirror_mode": {
    "name": "ipython",
    "version": 3
   },
   "file_extension": ".py",
   "mimetype": "text/x-python",
   "name": "python",
   "nbconvert_exporter": "python",
   "pygments_lexer": "ipython3",
   "version": "3.7.6"
  }
 },
 "nbformat": 4,
 "nbformat_minor": 4
}
