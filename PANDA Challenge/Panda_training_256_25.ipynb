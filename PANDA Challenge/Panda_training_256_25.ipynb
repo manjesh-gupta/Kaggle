{
 "cells": [
  {
   "cell_type": "code",
   "execution_count": 1,
   "metadata": {},
   "outputs": [
    {
     "name": "stdout",
     "output_type": "stream",
     "text": [
      "Collecting efficientnet\n",
      "  Downloading efficientnet-1.1.0-py3-none-any.whl (18 kB)\n",
      "Collecting keras-applications<=1.0.8,>=1.0.7\n",
      "  Downloading Keras_Applications-1.0.8-py3-none-any.whl (50 kB)\n",
      "\u001b[K     |████████████████████████████████| 50 kB 2.3 MB/s eta 0:00:011\n",
      "\u001b[?25hRequirement already satisfied: scikit-image in /opt/conda/lib/python3.7/site-packages (from efficientnet) (0.16.2)\n",
      "Requirement already satisfied: numpy>=1.9.1 in /opt/conda/lib/python3.7/site-packages (from keras-applications<=1.0.8,>=1.0.7->efficientnet) (1.18.1)\n",
      "Requirement already satisfied: h5py in /opt/conda/lib/python3.7/site-packages (from keras-applications<=1.0.8,>=1.0.7->efficientnet) (2.10.0)\n",
      "Requirement already satisfied: scipy>=0.19.0 in /opt/conda/lib/python3.7/site-packages (from scikit-image->efficientnet) (1.4.1)\n",
      "Requirement already satisfied: matplotlib!=3.0.0,>=2.0.0 in /opt/conda/lib/python3.7/site-packages (from scikit-image->efficientnet) (3.2.1)\n",
      "Requirement already satisfied: networkx>=2.0 in /opt/conda/lib/python3.7/site-packages (from scikit-image->efficientnet) (2.4)\n",
      "Requirement already satisfied: pillow>=4.3.0 in /opt/conda/lib/python3.7/site-packages (from scikit-image->efficientnet) (5.4.1)\n",
      "Requirement already satisfied: imageio>=2.3.0 in /opt/conda/lib/python3.7/site-packages (from scikit-image->efficientnet) (2.8.0)\n",
      "Requirement already satisfied: PyWavelets>=0.4.0 in /opt/conda/lib/python3.7/site-packages (from scikit-image->efficientnet) (1.1.1)\n",
      "Requirement already satisfied: six in /opt/conda/lib/python3.7/site-packages (from h5py->keras-applications<=1.0.8,>=1.0.7->efficientnet) (1.14.0)\n",
      "Requirement already satisfied: cycler>=0.10 in /opt/conda/lib/python3.7/site-packages (from matplotlib!=3.0.0,>=2.0.0->scikit-image->efficientnet) (0.10.0)\n",
      "Requirement already satisfied: python-dateutil>=2.1 in /opt/conda/lib/python3.7/site-packages (from matplotlib!=3.0.0,>=2.0.0->scikit-image->efficientnet) (2.8.1)\n",
      "Requirement already satisfied: pyparsing!=2.0.4,!=2.1.2,!=2.1.6,>=2.0.1 in /opt/conda/lib/python3.7/site-packages (from matplotlib!=3.0.0,>=2.0.0->scikit-image->efficientnet) (2.4.7)\n",
      "Requirement already satisfied: kiwisolver>=1.0.1 in /opt/conda/lib/python3.7/site-packages (from matplotlib!=3.0.0,>=2.0.0->scikit-image->efficientnet) (1.2.0)\n",
      "Requirement already satisfied: decorator>=4.3.0 in /opt/conda/lib/python3.7/site-packages (from networkx>=2.0->scikit-image->efficientnet) (4.4.2)\n",
      "Installing collected packages: keras-applications, efficientnet\n",
      "Successfully installed efficientnet-1.1.0 keras-applications-1.0.8\n",
      "Note: you may need to restart the kernel to use updated packages.\n"
     ]
    }
   ],
   "source": [
    "pip install efficientnet"
   ]
  },
  {
   "cell_type": "code",
   "execution_count": 2,
   "metadata": {
    "_cell_guid": "79c7e3d0-c299-4dcb-8224-4455121ee9b0",
    "_uuid": "d629ff2d2480ee46fbb7e2d37f6b5fab8052498a"
   },
   "outputs": [],
   "source": [
    "import numpy as np # linear algebra\n",
    "import pandas as pd # data processing, CSV file I/O (e.g. pd.read_csv)\n",
    "import os\n",
    "from skimage import io\n",
    "from matplotlib.pyplot import imshow\n",
    "import matplotlib.pyplot as plt\n",
    "import h5py\n",
    "import gc\n",
    "from sklearn.model_selection import train_test_split\n",
    "from sklearn.metrics import cohen_kappa_score\n",
    "import albumentations\n",
    "import cv2\n",
    "from sklearn.model_selection import StratifiedKFold\n",
    "import warnings\n",
    "warnings.filterwarnings(\"ignore\")\n",
    "import time\n",
    "from tqdm import tqdm"
   ]
  },
  {
   "cell_type": "code",
   "execution_count": 3,
   "metadata": {},
   "outputs": [
    {
     "name": "stderr",
     "output_type": "stream",
     "text": [
      "Using TensorFlow backend.\n"
     ]
    }
   ],
   "source": [
    "import tensorflow as tf\n",
    "from keras.layers import Dense\n",
    "from keras.layers import Flatten\n",
    "from keras.layers import BatchNormalization, Dropout, GlobalAveragePooling2D\n",
    "from keras.optimizers import Adam\n",
    "from keras import applications\n",
    "from efficientnet.keras import EfficientNetB0\n",
    "from keras import callbacks\n",
    "from keras.models import Sequential\n",
    "import tensorflow_addons as tfa\n",
    "from sklearn.metrics import confusion_matrix\n",
    "import keras.backend as K"
   ]
  },
  {
   "cell_type": "code",
   "execution_count": 4,
   "metadata": {},
   "outputs": [],
   "source": [
    "#f1 = h5py.File(\"data_parts.hdf5\", \"w\")\n",
    "#f1.create_dataset('X_train', data=X_train)\n",
    "#f1.create_dataset('y_train', data=y_train)\n",
    "#f1.create_dataset('X_test', data=X_test)\n",
    "#f1.create_dataset('y_test', data=y_test)\n",
    "#f1.close\n",
    "#cohen_kappa_score(y1, y2, weights='quadratic')\n",
    "#z = np.copy(x)"
   ]
  },
  {
   "cell_type": "code",
   "execution_count": 5,
   "metadata": {},
   "outputs": [
    {
     "name": "stdout",
     "output_type": "stream",
     "text": [
      "(1280, 1280, 3)\n"
     ]
    }
   ],
   "source": [
    "sz = 256\n",
    "N = 25\n",
    "N_row = 5\n",
    "x_new = sz*N_row\n",
    "y_new = sz*N_row\n",
    "input_sh = (x_new,y_new,3)\n",
    "classes = 6\n",
    "print(input_sh)"
   ]
  },
  {
   "cell_type": "code",
   "execution_count": 6,
   "metadata": {},
   "outputs": [
    {
     "data": {
      "text/html": [
       "<div>\n",
       "<style scoped>\n",
       "    .dataframe tbody tr th:only-of-type {\n",
       "        vertical-align: middle;\n",
       "    }\n",
       "\n",
       "    .dataframe tbody tr th {\n",
       "        vertical-align: top;\n",
       "    }\n",
       "\n",
       "    .dataframe thead th {\n",
       "        text-align: right;\n",
       "    }\n",
       "</style>\n",
       "<table border=\"1\" class=\"dataframe\">\n",
       "  <thead>\n",
       "    <tr style=\"text-align: right;\">\n",
       "      <th></th>\n",
       "      <th>image_id</th>\n",
       "      <th>data_provider</th>\n",
       "      <th>isup_grade</th>\n",
       "      <th>gleason_score</th>\n",
       "    </tr>\n",
       "  </thead>\n",
       "  <tbody>\n",
       "    <tr>\n",
       "      <th>0</th>\n",
       "      <td>0005f7aaab2800f6170c399693a96917</td>\n",
       "      <td>karolinska</td>\n",
       "      <td>0</td>\n",
       "      <td>0+0</td>\n",
       "    </tr>\n",
       "    <tr>\n",
       "      <th>1</th>\n",
       "      <td>000920ad0b612851f8e01bcc880d9b3d</td>\n",
       "      <td>karolinska</td>\n",
       "      <td>0</td>\n",
       "      <td>0+0</td>\n",
       "    </tr>\n",
       "    <tr>\n",
       "      <th>2</th>\n",
       "      <td>0018ae58b01bdadc8e347995b69f99aa</td>\n",
       "      <td>radboud</td>\n",
       "      <td>4</td>\n",
       "      <td>4+4</td>\n",
       "    </tr>\n",
       "    <tr>\n",
       "      <th>3</th>\n",
       "      <td>001c62abd11fa4b57bf7a6c603a11bb9</td>\n",
       "      <td>karolinska</td>\n",
       "      <td>4</td>\n",
       "      <td>4+4</td>\n",
       "    </tr>\n",
       "    <tr>\n",
       "      <th>4</th>\n",
       "      <td>001d865e65ef5d2579c190a0e0350d8f</td>\n",
       "      <td>karolinska</td>\n",
       "      <td>0</td>\n",
       "      <td>0+0</td>\n",
       "    </tr>\n",
       "  </tbody>\n",
       "</table>\n",
       "</div>"
      ],
      "text/plain": [
       "                           image_id data_provider  isup_grade gleason_score\n",
       "0  0005f7aaab2800f6170c399693a96917    karolinska           0           0+0\n",
       "1  000920ad0b612851f8e01bcc880d9b3d    karolinska           0           0+0\n",
       "2  0018ae58b01bdadc8e347995b69f99aa       radboud           4           4+4\n",
       "3  001c62abd11fa4b57bf7a6c603a11bb9    karolinska           4           4+4\n",
       "4  001d865e65ef5d2579c190a0e0350d8f    karolinska           0           0+0"
      ]
     },
     "execution_count": 6,
     "metadata": {},
     "output_type": "execute_result"
    }
   ],
   "source": [
    "df_train = pd.read_csv('../input/prostate-cancer-grade-assessment/train.csv')\n",
    "df_train.head()"
   ]
  },
  {
   "cell_type": "code",
   "execution_count": 7,
   "metadata": {},
   "outputs": [],
   "source": [
    "dir_p = '../input/panda-dataset-medium-25-256-256/train_medium_25_256_256/'"
   ]
  },
  {
   "cell_type": "code",
   "execution_count": 8,
   "metadata": {},
   "outputs": [],
   "source": [
    "def read_img_tiles(img_id):\n",
    "    comb_img = np.zeros(shape=(N,sz,sz,3), dtype='int16')\n",
    "    for i in range(N):\n",
    "        path = dir_p +img_id+'_'+str(i)+'.png'\n",
    "        img_temp = io.imread(path)\n",
    "        comb_img[i] = img_temp\n",
    "    comb_img_s = np.copy(comb_img)\n",
    "    np.random.shuffle(comb_img_s)\n",
    "    \n",
    "    comb_img = comb_img.reshape(N_row, N_row, sz,sz,3)\n",
    "    comb_img = comb_img.transpose(0,2,1,3,4)\n",
    "    comb_img = comb_img.reshape(x_new,y_new, 3)\n",
    "    comb_img = (comb_img/255).astype('float32')\n",
    "    \n",
    "    comb_img_s = comb_img_s.reshape(N_row, N_row, sz,sz,3)\n",
    "    comb_img_s = comb_img_s.transpose(0,2,1,3,4)\n",
    "    comb_img_s = comb_img_s.reshape(x_new,y_new, 3)\n",
    "    comb_img_s = (comb_img_s/255).astype('float32')\n",
    "    \n",
    "    return comb_img, comb_img_s"
   ]
  },
  {
   "cell_type": "code",
   "execution_count": 9,
   "metadata": {},
   "outputs": [],
   "source": [
    "#img, img_s = read_img_tiles('0005f7aaab2800f6170c399693a96917')"
   ]
  },
  {
   "cell_type": "code",
   "execution_count": 10,
   "metadata": {},
   "outputs": [],
   "source": [
    "#plt.imshow(img, aspect='auto')\n",
    "#plt.show()"
   ]
  },
  {
   "cell_type": "code",
   "execution_count": 11,
   "metadata": {},
   "outputs": [],
   "source": [
    "#plt.imshow(img_s, aspect='auto')\n",
    "#plt.show()"
   ]
  },
  {
   "cell_type": "code",
   "execution_count": 12,
   "metadata": {},
   "outputs": [],
   "source": [
    "def convert_to_one_hot(Y, C):\n",
    "    Y = np.eye(C)[Y.reshape(-1)].T\n",
    "    return Y"
   ]
  },
  {
   "cell_type": "code",
   "execution_count": 13,
   "metadata": {},
   "outputs": [],
   "source": [
    "def img_to_ndarr(df_train):\n",
    "    img_id = df_train.image_id.values.tolist()\n",
    "    y_lst = df_train.isup_grade.values.tolist()\n",
    "    len_t = len(img_id)\n",
    "    dataset_y = np.asarray(y_lst)\n",
    "    dataset_y = convert_to_one_hot(dataset_y, 6).T\n",
    "    dataset_x1 = np.zeros(shape=(len_t,x_new,y_new,3), dtype='float32')  \n",
    "    dataset_x2 = np.zeros(shape=(len_t,x_new,y_new,3), dtype='float32')\n",
    "    for i in range(len_t):\n",
    "        imd = img_id[i]\n",
    "        img_arr, img_arr_2 = read_img_tiles(imd)\n",
    "        dataset_x1[i] = img_arr\n",
    "        dataset_x2[i] = img_arr_2\n",
    "    #dataset_x = (dataset_x/255).astype('float32')\n",
    "    #print(i)\n",
    "    return dataset_x1, dataset_x2, dataset_y"
   ]
  },
  {
   "cell_type": "code",
   "execution_count": 14,
   "metadata": {},
   "outputs": [
    {
     "name": "stdout",
     "output_type": "stream",
     "text": [
      "Downloading data from https://github.com/Callidior/keras-applications/releases/download/efficientnet/efficientnet-b0_weights_tf_dim_ordering_tf_kernels_autoaugment_notop.h5\n",
      "16809984/16804768 [==============================] - 2s 0us/step\n",
      "Model: \"sequential\"\n",
      "_________________________________________________________________\n",
      "Layer (type)                 Output Shape              Param #   \n",
      "=================================================================\n",
      "efficientnet-b0 (Model)      (None, 40, 40, 1280)      4049564   \n",
      "_________________________________________________________________\n",
      "global_average_pooling2d (Gl (None, 1280)              0         \n",
      "_________________________________________________________________\n",
      "dense (Dense)                (None, 128)               163968    \n",
      "_________________________________________________________________\n",
      "batch_normalization (BatchNo (None, 128)               512       \n",
      "_________________________________________________________________\n",
      "dropout (Dropout)            (None, 128)               0         \n",
      "_________________________________________________________________\n",
      "dense_1 (Dense)              (None, 6)                 774       \n",
      "=================================================================\n",
      "Total params: 4,214,818\n",
      "Trainable params: 4,172,546\n",
      "Non-trainable params: 42,272\n",
      "_________________________________________________________________\n"
     ]
    }
   ],
   "source": [
    "efficient_net = EfficientNetB0(\n",
    "    weights='imagenet',\n",
    "    input_shape=input_sh,\n",
    "    include_top=False,\n",
    ")\n",
    "model = Sequential()\n",
    "model.add(efficient_net)\n",
    "model.add(GlobalAveragePooling2D())\n",
    "model.add(Dense(128, activation='relu'))\n",
    "model.add(BatchNormalization())\n",
    "model.add(Dropout(.10))\n",
    "model.add(Dense(6, activation='softmax'))\n",
    "\n",
    "op_1 = tf.keras.optimizers.Adam(learning_rate= 0.0001)\n",
    "\n",
    "model.compile(optimizer=op_1, loss='categorical_crossentropy', metrics=['categorical_accuracy'])\n",
    "model.summary()"
   ]
  },
  {
   "cell_type": "code",
   "execution_count": 15,
   "metadata": {},
   "outputs": [],
   "source": [
    "#model2 = tf.keras.models.load_model('../input/pandas-parts/model_en4_low_32_144_9.h5')\n",
    "#model2.summary()"
   ]
  },
  {
   "cell_type": "code",
   "execution_count": 16,
   "metadata": {},
   "outputs": [],
   "source": [
    "lr_lst = [3.0000e-04,2.9918e-04,2.9672e-04,2.9266e-04,2.8703e-04,2.7990e-04,2.7135e-04,2.6147e-04,2.5037e-04,2.3817e-04,\n",
    "         2.2500e-04,2.1101e-04,1.9635e-04,1.8119e-04,1.6568e-04,1.5000e-04,1.3432e-04,1.1881e-04,1.0365e-04,8.8990e-05,\n",
    "         7.5000e-05,6.1832e-05,4.9630e-05,3.8528e-05,2.8647e-05,2.0096e-05,1.2968e-05,7.3415e-06,3.2779e-06,8.2171e-07]"
   ]
  },
  {
   "cell_type": "code",
   "execution_count": 17,
   "metadata": {},
   "outputs": [],
   "source": [
    "results = []\n",
    "loss = []\n",
    "epoch_lst = [0,1]"
   ]
  },
  {
   "cell_type": "code",
   "execution_count": 18,
   "metadata": {},
   "outputs": [
    {
     "name": "stderr",
     "output_type": "stream",
     "text": [
      "  0%|          | 0/2654 [00:00<?, ?it/s]"
     ]
    },
    {
     "name": "stdout",
     "output_type": "stream",
     "text": [
      "0 0.0003\n"
     ]
    },
    {
     "name": "stderr",
     "output_type": "stream",
     "text": [
      "100%|██████████| 2654/2654 [2:35:03<00:00,  3.51s/it]  \n"
     ]
    },
    {
     "name": "stdout",
     "output_type": "stream",
     "text": [
      "[[1.4989651441574097, 0.4211418926715851]]\n"
     ]
    },
    {
     "name": "stderr",
     "output_type": "stream",
     "text": [
      "  0%|          | 0/2654 [00:00<?, ?it/s]"
     ]
    },
    {
     "name": "stdout",
     "output_type": "stream",
     "text": [
      "1 0.00029918\n"
     ]
    },
    {
     "name": "stderr",
     "output_type": "stream",
     "text": [
      "100%|██████████| 2654/2654 [2:32:33<00:00,  3.45s/it]  \n"
     ]
    },
    {
     "name": "stdout",
     "output_type": "stream",
     "text": [
      "[[1.4989651441574097, 0.4211418926715851], [1.3007872104644775, 0.5012248158454895]]\n"
     ]
    }
   ],
   "source": [
    "for epoch in epoch_lst:\n",
    "    #print(K.get_value(model.optimizer.learning_rate))\n",
    "    current_learning_rate = lr_lst[epoch]\n",
    "    K.set_value(model.optimizer.learning_rate, current_learning_rate)\n",
    "    print(epoch, K.get_value(model.optimizer.learning_rate))\n",
    "    for batch in tqdm(range(2654)):\n",
    "        start = batch*4\n",
    "        end = start+4\n",
    "        df = df_train[start:end]\n",
    "        X_train_1, X_train_2, y_train = img_to_ndarr(df)\n",
    "        if (batch==0):\n",
    "            loss = model.train_on_batch(X_train_1, y=y_train, reset_metrics=True)\n",
    "        else:\n",
    "            loss = model.train_on_batch(X_train_1, y=y_train, reset_metrics=False)\n",
    "        loss = model.train_on_batch(X_train_2, y=y_train, reset_metrics=False)\n",
    "\n",
    "\n",
    "        del X_train_1, X_train_2, y_train\n",
    "        gc.collect()\n",
    "\n",
    "    results.append(loss)\n",
    "    print(results)\n",
    "    name = 'model_en4_med_256_25_tob_ep_'+str(epoch)+'.h5'\n",
    "    model.save(name)"
   ]
  },
  {
   "cell_type": "code",
   "execution_count": null,
   "metadata": {},
   "outputs": [],
   "source": []
  },
  {
   "cell_type": "code",
   "execution_count": 19,
   "metadata": {},
   "outputs": [],
   "source": [
    "#results = model.evaluate(X_train, y_train, batch_size=2)"
   ]
  },
  {
   "cell_type": "code",
   "execution_count": 20,
   "metadata": {},
   "outputs": [],
   "source": [
    "#if (i%6==0):\n",
    "#name = 'model_en4_med_192_36_decay'+str(i)+'.h5'\n",
    "#model.save(name)"
   ]
  },
  {
   "cell_type": "code",
   "execution_count": 21,
   "metadata": {},
   "outputs": [],
   "source": [
    "#df_train.to_csv('split_decay.csv', index=False)"
   ]
  }
 ],
 "metadata": {
  "kernelspec": {
   "display_name": "Python 3",
   "language": "python",
   "name": "python3"
  },
  "language_info": {
   "codemirror_mode": {
    "name": "ipython",
    "version": 3
   },
   "file_extension": ".py",
   "mimetype": "text/x-python",
   "name": "python",
   "nbconvert_exporter": "python",
   "pygments_lexer": "ipython3",
   "version": "3.7.3"
  }
 },
 "nbformat": 4,
 "nbformat_minor": 4
}
