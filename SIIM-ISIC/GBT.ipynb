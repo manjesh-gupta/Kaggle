{
 "cells": [
  {
   "cell_type": "code",
   "execution_count": 1,
   "metadata": {},
   "outputs": [],
   "source": [
    "import numpy as np \n",
    "import pandas as pd \n",
    "from sklearn.ensemble import GradientBoostingClassifier\n",
    "from sklearn.model_selection import cross_val_score\n",
    "from sklearn.model_selection import GridSearchCV\n",
    "from sklearn.model_selection import cross_val_predict\n",
    "from sklearn.metrics import roc_auc_score\n",
    "from sklearn import model_selection\n",
    "from sklearn.model_selection import StratifiedKFold\n",
    "from xgboost import XGBClassifier"
   ]
  },
  {
   "cell_type": "code",
   "execution_count": 2,
   "metadata": {},
   "outputs": [],
   "source": [
    "train_dtype = {\"image_name\": \"object\", \"patient_id\": \"object\", \"sex\": \"category\",\"age_approx\":\"float32\", \n",
    "               \"anatom_site_general_challenge\":\"category\",\"diagnosis\":\"object\",\"benign_malignant\":\"object\",\"target\":\"int64\"}\n",
    "test_dtype = {\"image_name\": \"object\", \"patient_id\": \"object\", \"sex\": \"category\",\"age_approx\":\"float32\", \n",
    "               \"anatom_site_general_challenge\":\"category\"}"
   ]
  },
  {
   "cell_type": "code",
   "execution_count": 3,
   "metadata": {},
   "outputs": [],
   "source": [
    "train_df  = pd.read_csv(\"train.csv\", dtype = train_dtype)\n",
    "train_df[\"anatom_site_general_challenge\"] = train_df[\"anatom_site_general_challenge\"].cat.add_categories(\"None\").fillna(\"None\")\n",
    "train_df[\"sex\"] = train_df[\"sex\"].cat.add_categories(\"None\").fillna(\"None\")\n",
    "train_df['age_approx'].fillna((train_df['age_approx'].mean()), inplace=True)"
   ]
  },
  {
   "cell_type": "code",
   "execution_count": 4,
   "metadata": {},
   "outputs": [],
   "source": [
    "test_df = pd.read_csv(\"test.csv\", dtype = test_dtype)\n",
    "test_df[\"anatom_site_general_challenge\"] = test_df[\"anatom_site_general_challenge\"].cat.add_categories(\"None\").fillna(\"None\")"
   ]
  },
  {
   "cell_type": "code",
   "execution_count": 5,
   "metadata": {},
   "outputs": [],
   "source": [
    "for col, col_dtype in train_dtype.items():\n",
    "    if col_dtype == \"category\":\n",
    "        train_df[col] = train_df[col].cat.codes.astype(\"int16\")\n",
    "        train_df[col] -= train_df[col].min()"
   ]
  },
  {
   "cell_type": "code",
   "execution_count": 6,
   "metadata": {},
   "outputs": [],
   "source": [
    "for col, col_dtype in test_dtype.items():\n",
    "    if col_dtype == \"category\":\n",
    "        test_df[col] = test_df[col].cat.codes.astype(\"int16\")\n",
    "        test_df[col] -= test_df[col].min()"
   ]
  },
  {
   "cell_type": "code",
   "execution_count": 7,
   "metadata": {},
   "outputs": [],
   "source": [
    "train_df = train_df.drop(['patient_id','diagnosis','benign_malignant'], axis=1)\n",
    "X_test = test_df.drop(['image_name','patient_id'], axis=1)"
   ]
  },
  {
   "cell_type": "code",
   "execution_count": 8,
   "metadata": {},
   "outputs": [
    {
     "data": {
      "text/html": [
       "<div>\n",
       "<style scoped>\n",
       "    .dataframe tbody tr th:only-of-type {\n",
       "        vertical-align: middle;\n",
       "    }\n",
       "\n",
       "    .dataframe tbody tr th {\n",
       "        vertical-align: top;\n",
       "    }\n",
       "\n",
       "    .dataframe thead th {\n",
       "        text-align: right;\n",
       "    }\n",
       "</style>\n",
       "<table border=\"1\" class=\"dataframe\">\n",
       "  <thead>\n",
       "    <tr style=\"text-align: right;\">\n",
       "      <th></th>\n",
       "      <th>image_name</th>\n",
       "      <th>sex</th>\n",
       "      <th>age_approx</th>\n",
       "      <th>anatom_site_general_challenge</th>\n",
       "      <th>target</th>\n",
       "    </tr>\n",
       "  </thead>\n",
       "  <tbody>\n",
       "    <tr>\n",
       "      <th>0</th>\n",
       "      <td>ISIC_2637011</td>\n",
       "      <td>1</td>\n",
       "      <td>45.0</td>\n",
       "      <td>0</td>\n",
       "      <td>0</td>\n",
       "    </tr>\n",
       "    <tr>\n",
       "      <th>1</th>\n",
       "      <td>ISIC_0015719</td>\n",
       "      <td>0</td>\n",
       "      <td>45.0</td>\n",
       "      <td>5</td>\n",
       "      <td>0</td>\n",
       "    </tr>\n",
       "    <tr>\n",
       "      <th>2</th>\n",
       "      <td>ISIC_0052212</td>\n",
       "      <td>0</td>\n",
       "      <td>50.0</td>\n",
       "      <td>1</td>\n",
       "      <td>0</td>\n",
       "    </tr>\n",
       "    <tr>\n",
       "      <th>3</th>\n",
       "      <td>ISIC_0068279</td>\n",
       "      <td>0</td>\n",
       "      <td>45.0</td>\n",
       "      <td>0</td>\n",
       "      <td>0</td>\n",
       "    </tr>\n",
       "    <tr>\n",
       "      <th>4</th>\n",
       "      <td>ISIC_0074268</td>\n",
       "      <td>0</td>\n",
       "      <td>55.0</td>\n",
       "      <td>5</td>\n",
       "      <td>0</td>\n",
       "    </tr>\n",
       "  </tbody>\n",
       "</table>\n",
       "</div>"
      ],
      "text/plain": [
       "     image_name  sex  age_approx  anatom_site_general_challenge  target\n",
       "0  ISIC_2637011    1        45.0                              0       0\n",
       "1  ISIC_0015719    0        45.0                              5       0\n",
       "2  ISIC_0052212    0        50.0                              1       0\n",
       "3  ISIC_0068279    0        45.0                              0       0\n",
       "4  ISIC_0074268    0        55.0                              5       0"
      ]
     },
     "execution_count": 8,
     "metadata": {},
     "output_type": "execute_result"
    }
   ],
   "source": [
    "train_df.head()"
   ]
  },
  {
   "cell_type": "code",
   "execution_count": 9,
   "metadata": {},
   "outputs": [
    {
     "data": {
      "text/html": [
       "<div>\n",
       "<style scoped>\n",
       "    .dataframe tbody tr th:only-of-type {\n",
       "        vertical-align: middle;\n",
       "    }\n",
       "\n",
       "    .dataframe tbody tr th {\n",
       "        vertical-align: top;\n",
       "    }\n",
       "\n",
       "    .dataframe thead th {\n",
       "        text-align: right;\n",
       "    }\n",
       "</style>\n",
       "<table border=\"1\" class=\"dataframe\">\n",
       "  <thead>\n",
       "    <tr style=\"text-align: right;\">\n",
       "      <th></th>\n",
       "      <th>sex</th>\n",
       "      <th>age_approx</th>\n",
       "      <th>anatom_site_general_challenge</th>\n",
       "    </tr>\n",
       "  </thead>\n",
       "  <tbody>\n",
       "    <tr>\n",
       "      <th>0</th>\n",
       "      <td>1</td>\n",
       "      <td>70.0</td>\n",
       "      <td>6</td>\n",
       "    </tr>\n",
       "    <tr>\n",
       "      <th>1</th>\n",
       "      <td>1</td>\n",
       "      <td>40.0</td>\n",
       "      <td>1</td>\n",
       "    </tr>\n",
       "    <tr>\n",
       "      <th>2</th>\n",
       "      <td>0</td>\n",
       "      <td>55.0</td>\n",
       "      <td>4</td>\n",
       "    </tr>\n",
       "    <tr>\n",
       "      <th>3</th>\n",
       "      <td>0</td>\n",
       "      <td>50.0</td>\n",
       "      <td>4</td>\n",
       "    </tr>\n",
       "    <tr>\n",
       "      <th>4</th>\n",
       "      <td>0</td>\n",
       "      <td>45.0</td>\n",
       "      <td>1</td>\n",
       "    </tr>\n",
       "  </tbody>\n",
       "</table>\n",
       "</div>"
      ],
      "text/plain": [
       "   sex  age_approx  anatom_site_general_challenge\n",
       "0    1        70.0                              6\n",
       "1    1        40.0                              1\n",
       "2    0        55.0                              4\n",
       "3    0        50.0                              4\n",
       "4    0        45.0                              1"
      ]
     },
     "execution_count": 9,
     "metadata": {},
     "output_type": "execute_result"
    }
   ],
   "source": [
    "X_test.head()"
   ]
  },
  {
   "cell_type": "code",
   "execution_count": 10,
   "metadata": {},
   "outputs": [],
   "source": [
    "kfold = StratifiedKFold(n_splits=5, shuffle=True, random_state=42)\n",
    "\n",
    "train_df.loc[:, 'fold'] = 0\n",
    "for fold_number, (train_index, val_index) in enumerate(kfold.split(X=train_df.index, y=train_df['target'])):\n",
    "    train_df.loc[train_df.iloc[val_index].index, 'fold'] = fold_number"
   ]
  },
  {
   "cell_type": "code",
   "execution_count": 11,
   "metadata": {},
   "outputs": [
    {
     "data": {
      "text/html": [
       "<div>\n",
       "<style scoped>\n",
       "    .dataframe tbody tr th:only-of-type {\n",
       "        vertical-align: middle;\n",
       "    }\n",
       "\n",
       "    .dataframe tbody tr th {\n",
       "        vertical-align: top;\n",
       "    }\n",
       "\n",
       "    .dataframe thead th {\n",
       "        text-align: right;\n",
       "    }\n",
       "</style>\n",
       "<table border=\"1\" class=\"dataframe\">\n",
       "  <thead>\n",
       "    <tr style=\"text-align: right;\">\n",
       "      <th></th>\n",
       "      <th>image_name</th>\n",
       "      <th>sex</th>\n",
       "      <th>age_approx</th>\n",
       "      <th>anatom_site_general_challenge</th>\n",
       "      <th>target</th>\n",
       "      <th>fold</th>\n",
       "    </tr>\n",
       "  </thead>\n",
       "  <tbody>\n",
       "    <tr>\n",
       "      <th>0</th>\n",
       "      <td>ISIC_2637011</td>\n",
       "      <td>1</td>\n",
       "      <td>45.0</td>\n",
       "      <td>0</td>\n",
       "      <td>0</td>\n",
       "      <td>4</td>\n",
       "    </tr>\n",
       "    <tr>\n",
       "      <th>1</th>\n",
       "      <td>ISIC_0015719</td>\n",
       "      <td>0</td>\n",
       "      <td>45.0</td>\n",
       "      <td>5</td>\n",
       "      <td>0</td>\n",
       "      <td>1</td>\n",
       "    </tr>\n",
       "    <tr>\n",
       "      <th>2</th>\n",
       "      <td>ISIC_0052212</td>\n",
       "      <td>0</td>\n",
       "      <td>50.0</td>\n",
       "      <td>1</td>\n",
       "      <td>0</td>\n",
       "      <td>2</td>\n",
       "    </tr>\n",
       "    <tr>\n",
       "      <th>3</th>\n",
       "      <td>ISIC_0068279</td>\n",
       "      <td>0</td>\n",
       "      <td>45.0</td>\n",
       "      <td>0</td>\n",
       "      <td>0</td>\n",
       "      <td>1</td>\n",
       "    </tr>\n",
       "    <tr>\n",
       "      <th>4</th>\n",
       "      <td>ISIC_0074268</td>\n",
       "      <td>0</td>\n",
       "      <td>55.0</td>\n",
       "      <td>5</td>\n",
       "      <td>0</td>\n",
       "      <td>2</td>\n",
       "    </tr>\n",
       "  </tbody>\n",
       "</table>\n",
       "</div>"
      ],
      "text/plain": [
       "     image_name  sex  age_approx  anatom_site_general_challenge  target  fold\n",
       "0  ISIC_2637011    1        45.0                              0       0     4\n",
       "1  ISIC_0015719    0        45.0                              5       0     1\n",
       "2  ISIC_0052212    0        50.0                              1       0     2\n",
       "3  ISIC_0068279    0        45.0                              0       0     1\n",
       "4  ISIC_0074268    0        55.0                              5       0     2"
      ]
     },
     "execution_count": 11,
     "metadata": {},
     "output_type": "execute_result"
    }
   ],
   "source": [
    "train_df.head()"
   ]
  },
  {
   "cell_type": "code",
   "execution_count": 12,
   "metadata": {},
   "outputs": [],
   "source": [
    "oof_pred = pd.DataFrame(columns = ['image_name', 'target', 'pred', 'fold'])\n",
    "sub_pred = pd.DataFrame(columns = ['image_name', 'fold_0', 'fold_1','fold_2','fold_3','fold_4'])\n",
    "sub_pred['image_name'] = test_df['image_name']"
   ]
  },
  {
   "cell_type": "code",
   "execution_count": 116,
   "metadata": {},
   "outputs": [],
   "source": [
    "# lr=0.1, max_depth=3, n_esti=100\n",
    "#gbc = GradientBoostingClassifier(n_estimators=100, max_depth=3, learning_rate=0.1)"
   ]
  },
  {
   "cell_type": "code",
   "execution_count": 13,
   "metadata": {},
   "outputs": [
    {
     "name": "stdout",
     "output_type": "stream",
     "text": [
      "[[0.9487172  0.0512828 ]\n",
      " [0.94943726 0.05056271]\n",
      " [0.93936694 0.06063307]\n",
      " ...\n",
      " [0.9492284  0.05077162]\n",
      " [0.93799955 0.06200045]\n",
      " [0.9487172  0.0512828 ]]\n",
      "[[0.94965464 0.05034537]\n",
      " [0.94952255 0.05047745]\n",
      " [0.94816816 0.05183183]\n",
      " ...\n",
      " [0.93362796 0.06637204]\n",
      " [0.9479811  0.05201891]\n",
      " [0.94740564 0.05259437]]\n",
      "[[0.94910485 0.05089514]\n",
      " [0.9439744  0.05602562]\n",
      " [0.94910485 0.05089514]\n",
      " ...\n",
      " [0.9426265  0.05737349]\n",
      " [0.9491283  0.05087165]\n",
      " [0.94886994 0.05113009]]\n",
      "[[0.94965386 0.05034612]\n",
      " [0.9033835  0.0966165 ]\n",
      " [0.9457958  0.05420426]\n",
      " ...\n",
      " [0.9466382  0.05336178]\n",
      " [0.94917524 0.05082478]\n",
      " [0.94793653 0.05206345]]\n",
      "[[0.9471588  0.05284118]\n",
      " [0.95034367 0.04965631]\n",
      " [0.95031846 0.04968154]\n",
      " ...\n",
      " [0.9400133  0.05998671]\n",
      " [0.9466275  0.05337251]\n",
      " [0.94792336 0.05207663]]\n"
     ]
    }
   ],
   "source": [
    "fold_lst = [0,1,2,3,4]\n",
    "for fold in fold_lst:\n",
    "    #Prep data\n",
    "    train = train_df[train_df['fold'] != fold]\n",
    "    val = train_df[train_df['fold'] == fold]\n",
    "\n",
    "    \n",
    "    y_train = train['target']\n",
    "    X_train = train.drop(['image_name', 'target', 'fold'], axis=1)\n",
    "    y_val = val['target']\n",
    "    X_val = val.drop(['image_name','target', 'fold'], axis=1)\n",
    "    \n",
    "    #Fit model\n",
    "    xgb = XGBClassifier(base_score=0.5, booster=None, colsample_bylevel=1,\n",
    "           colsample_bynode=1, colsample_bytree=1, gamma=0.4, gpu_id=-1,\n",
    "           importance_type='gain', interaction_constraints=None,\n",
    "           learning_rate=0.005, max_delta_step=0, max_depth=3,\n",
    "           min_child_weight=5, monotone_constraints=None,\n",
    "           n_estimators=500, n_jobs=0, num_parallel_tree=1, random_state=0,\n",
    "           reg_alpha=0.01, reg_lambda=1, scale_pos_weight=1, subsample=0.6,\n",
    "           tree_method=None, validate_parameters=False, verbosity=None)\n",
    "    #gbc = GradientBoostingClassifier(n_estimators=100, max_depth=3, learning_rate=0.1)\n",
    "    #gbc.fit(X_train, y_train)\n",
    "    xgb.fit(X_train, y_train)\n",
    "    \n",
    "    #Predict Val\n",
    "    y_pred = xgb.predict_proba(X_val)\n",
    "    print(y_pred)\n",
    "    \n",
    "    oof_fold = pd.DataFrame(columns = ['image_name', 'target', 'pred', 'fold'])\n",
    "    oof_fold['image_name'] = val['image_name']\n",
    "    oof_fold['target'] = val['target']\n",
    "    oof_fold['pred'] = y_pred[:,1]\n",
    "    oof_fold['fold'] = fold\n",
    "    \n",
    "    oof_pred = pd.concat([oof_pred, oof_fold], ignore_index=True)\n",
    "    \n",
    "    #Predict Test\n",
    "    y_test = xgb.predict_proba(X_test)\n",
    "    fold_st = 'fold_'+str(fold)\n",
    "    sub_pred[fold_st] = y_test[:,1]"
   ]
  },
  {
   "cell_type": "code",
   "execution_count": 14,
   "metadata": {},
   "outputs": [
    {
     "data": {
      "text/plain": [
       "0    32542\n",
       "1      584\n",
       "Name: target, dtype: int64"
      ]
     },
     "execution_count": 14,
     "metadata": {},
     "output_type": "execute_result"
    }
   ],
   "source": [
    "oof_pred.target.value_counts()"
   ]
  },
  {
   "cell_type": "code",
   "execution_count": 15,
   "metadata": {},
   "outputs": [
    {
     "name": "stdout",
     "output_type": "stream",
     "text": [
      "0.6656754642893524\n"
     ]
    }
   ],
   "source": [
    "oof_pred['target'] = oof_pred['target'].astype(int)\n",
    "X = oof_pred['target'].to_numpy()\n",
    "y = oof_pred['pred'].to_numpy()\n",
    "auc = roc_auc_score(X,y)\n",
    "print (auc)"
   ]
  },
  {
   "cell_type": "code",
   "execution_count": 16,
   "metadata": {},
   "outputs": [
    {
     "data": {
      "text/html": [
       "<div>\n",
       "<style scoped>\n",
       "    .dataframe tbody tr th:only-of-type {\n",
       "        vertical-align: middle;\n",
       "    }\n",
       "\n",
       "    .dataframe tbody tr th {\n",
       "        vertical-align: top;\n",
       "    }\n",
       "\n",
       "    .dataframe thead th {\n",
       "        text-align: right;\n",
       "    }\n",
       "</style>\n",
       "<table border=\"1\" class=\"dataframe\">\n",
       "  <thead>\n",
       "    <tr style=\"text-align: right;\">\n",
       "      <th></th>\n",
       "      <th>image_name</th>\n",
       "      <th>fold_0</th>\n",
       "      <th>fold_1</th>\n",
       "      <th>fold_2</th>\n",
       "      <th>fold_3</th>\n",
       "      <th>fold_4</th>\n",
       "    </tr>\n",
       "  </thead>\n",
       "  <tbody>\n",
       "    <tr>\n",
       "      <th>0</th>\n",
       "      <td>ISIC_0052060</td>\n",
       "      <td>0.069517</td>\n",
       "      <td>0.068881</td>\n",
       "      <td>0.071840</td>\n",
       "      <td>0.065249</td>\n",
       "      <td>0.072480</td>\n",
       "    </tr>\n",
       "    <tr>\n",
       "      <th>1</th>\n",
       "      <td>ISIC_0052349</td>\n",
       "      <td>0.051225</td>\n",
       "      <td>0.051765</td>\n",
       "      <td>0.051106</td>\n",
       "      <td>0.050886</td>\n",
       "      <td>0.049682</td>\n",
       "    </tr>\n",
       "    <tr>\n",
       "      <th>2</th>\n",
       "      <td>ISIC_0058510</td>\n",
       "      <td>0.056628</td>\n",
       "      <td>0.054369</td>\n",
       "      <td>0.053443</td>\n",
       "      <td>0.054204</td>\n",
       "      <td>0.053654</td>\n",
       "    </tr>\n",
       "    <tr>\n",
       "      <th>3</th>\n",
       "      <td>ISIC_0073313</td>\n",
       "      <td>0.050969</td>\n",
       "      <td>0.050582</td>\n",
       "      <td>0.050766</td>\n",
       "      <td>0.052808</td>\n",
       "      <td>0.052050</td>\n",
       "    </tr>\n",
       "    <tr>\n",
       "      <th>4</th>\n",
       "      <td>ISIC_0073502</td>\n",
       "      <td>0.050962</td>\n",
       "      <td>0.050305</td>\n",
       "      <td>0.050872</td>\n",
       "      <td>0.051617</td>\n",
       "      <td>0.051470</td>\n",
       "    </tr>\n",
       "  </tbody>\n",
       "</table>\n",
       "</div>"
      ],
      "text/plain": [
       "     image_name    fold_0    fold_1    fold_2    fold_3    fold_4\n",
       "0  ISIC_0052060  0.069517  0.068881  0.071840  0.065249  0.072480\n",
       "1  ISIC_0052349  0.051225  0.051765  0.051106  0.050886  0.049682\n",
       "2  ISIC_0058510  0.056628  0.054369  0.053443  0.054204  0.053654\n",
       "3  ISIC_0073313  0.050969  0.050582  0.050766  0.052808  0.052050\n",
       "4  ISIC_0073502  0.050962  0.050305  0.050872  0.051617  0.051470"
      ]
     },
     "execution_count": 16,
     "metadata": {},
     "output_type": "execute_result"
    }
   ],
   "source": [
    "sub_pred.head()"
   ]
  },
  {
   "cell_type": "code",
   "execution_count": 17,
   "metadata": {},
   "outputs": [],
   "source": [
    "sub_pred['target'] = (sub_pred['fold_0'] +sub_pred['fold_1'] +sub_pred['fold_2'] +sub_pred['fold_3'] +sub_pred['fold_4'])/5"
   ]
  },
  {
   "cell_type": "code",
   "execution_count": 18,
   "metadata": {},
   "outputs": [
    {
     "data": {
      "text/html": [
       "<div>\n",
       "<style scoped>\n",
       "    .dataframe tbody tr th:only-of-type {\n",
       "        vertical-align: middle;\n",
       "    }\n",
       "\n",
       "    .dataframe tbody tr th {\n",
       "        vertical-align: top;\n",
       "    }\n",
       "\n",
       "    .dataframe thead th {\n",
       "        text-align: right;\n",
       "    }\n",
       "</style>\n",
       "<table border=\"1\" class=\"dataframe\">\n",
       "  <thead>\n",
       "    <tr style=\"text-align: right;\">\n",
       "      <th></th>\n",
       "      <th>image_name</th>\n",
       "      <th>fold_0</th>\n",
       "      <th>fold_1</th>\n",
       "      <th>fold_2</th>\n",
       "      <th>fold_3</th>\n",
       "      <th>fold_4</th>\n",
       "      <th>target</th>\n",
       "    </tr>\n",
       "  </thead>\n",
       "  <tbody>\n",
       "    <tr>\n",
       "      <th>0</th>\n",
       "      <td>ISIC_0052060</td>\n",
       "      <td>0.069517</td>\n",
       "      <td>0.068881</td>\n",
       "      <td>0.071840</td>\n",
       "      <td>0.065249</td>\n",
       "      <td>0.072480</td>\n",
       "      <td>0.069593</td>\n",
       "    </tr>\n",
       "    <tr>\n",
       "      <th>1</th>\n",
       "      <td>ISIC_0052349</td>\n",
       "      <td>0.051225</td>\n",
       "      <td>0.051765</td>\n",
       "      <td>0.051106</td>\n",
       "      <td>0.050886</td>\n",
       "      <td>0.049682</td>\n",
       "      <td>0.050933</td>\n",
       "    </tr>\n",
       "    <tr>\n",
       "      <th>2</th>\n",
       "      <td>ISIC_0058510</td>\n",
       "      <td>0.056628</td>\n",
       "      <td>0.054369</td>\n",
       "      <td>0.053443</td>\n",
       "      <td>0.054204</td>\n",
       "      <td>0.053654</td>\n",
       "      <td>0.054460</td>\n",
       "    </tr>\n",
       "    <tr>\n",
       "      <th>3</th>\n",
       "      <td>ISIC_0073313</td>\n",
       "      <td>0.050969</td>\n",
       "      <td>0.050582</td>\n",
       "      <td>0.050766</td>\n",
       "      <td>0.052808</td>\n",
       "      <td>0.052050</td>\n",
       "      <td>0.051435</td>\n",
       "    </tr>\n",
       "    <tr>\n",
       "      <th>4</th>\n",
       "      <td>ISIC_0073502</td>\n",
       "      <td>0.050962</td>\n",
       "      <td>0.050305</td>\n",
       "      <td>0.050872</td>\n",
       "      <td>0.051617</td>\n",
       "      <td>0.051470</td>\n",
       "      <td>0.051045</td>\n",
       "    </tr>\n",
       "  </tbody>\n",
       "</table>\n",
       "</div>"
      ],
      "text/plain": [
       "     image_name    fold_0    fold_1    fold_2    fold_3    fold_4    target\n",
       "0  ISIC_0052060  0.069517  0.068881  0.071840  0.065249  0.072480  0.069593\n",
       "1  ISIC_0052349  0.051225  0.051765  0.051106  0.050886  0.049682  0.050933\n",
       "2  ISIC_0058510  0.056628  0.054369  0.053443  0.054204  0.053654  0.054460\n",
       "3  ISIC_0073313  0.050969  0.050582  0.050766  0.052808  0.052050  0.051435\n",
       "4  ISIC_0073502  0.050962  0.050305  0.050872  0.051617  0.051470  0.051045"
      ]
     },
     "execution_count": 18,
     "metadata": {},
     "output_type": "execute_result"
    }
   ],
   "source": [
    "sub_pred.head()"
   ]
  },
  {
   "cell_type": "code",
   "execution_count": 19,
   "metadata": {},
   "outputs": [
    {
     "data": {
      "text/html": [
       "<div>\n",
       "<style scoped>\n",
       "    .dataframe tbody tr th:only-of-type {\n",
       "        vertical-align: middle;\n",
       "    }\n",
       "\n",
       "    .dataframe tbody tr th {\n",
       "        vertical-align: top;\n",
       "    }\n",
       "\n",
       "    .dataframe thead th {\n",
       "        text-align: right;\n",
       "    }\n",
       "</style>\n",
       "<table border=\"1\" class=\"dataframe\">\n",
       "  <thead>\n",
       "    <tr style=\"text-align: right;\">\n",
       "      <th></th>\n",
       "      <th>image_name</th>\n",
       "      <th>target</th>\n",
       "    </tr>\n",
       "  </thead>\n",
       "  <tbody>\n",
       "    <tr>\n",
       "      <th>0</th>\n",
       "      <td>ISIC_0052060</td>\n",
       "      <td>0.069593</td>\n",
       "    </tr>\n",
       "    <tr>\n",
       "      <th>1</th>\n",
       "      <td>ISIC_0052349</td>\n",
       "      <td>0.050933</td>\n",
       "    </tr>\n",
       "    <tr>\n",
       "      <th>2</th>\n",
       "      <td>ISIC_0058510</td>\n",
       "      <td>0.054460</td>\n",
       "    </tr>\n",
       "    <tr>\n",
       "      <th>3</th>\n",
       "      <td>ISIC_0073313</td>\n",
       "      <td>0.051435</td>\n",
       "    </tr>\n",
       "    <tr>\n",
       "      <th>4</th>\n",
       "      <td>ISIC_0073502</td>\n",
       "      <td>0.051045</td>\n",
       "    </tr>\n",
       "  </tbody>\n",
       "</table>\n",
       "</div>"
      ],
      "text/plain": [
       "     image_name    target\n",
       "0  ISIC_0052060  0.069593\n",
       "1  ISIC_0052349  0.050933\n",
       "2  ISIC_0058510  0.054460\n",
       "3  ISIC_0073313  0.051435\n",
       "4  ISIC_0073502  0.051045"
      ]
     },
     "execution_count": 19,
     "metadata": {},
     "output_type": "execute_result"
    }
   ],
   "source": [
    "sub_xgb = sub_pred[['image_name', 'target']]\n",
    "sub_xgb = sub_xgb.sort_values('image_name')\n",
    "sub_xgb.head()"
   ]
  },
  {
   "cell_type": "code",
   "execution_count": 20,
   "metadata": {},
   "outputs": [],
   "source": [
    "sub_xgb.to_csv(\"sub_xgb_fold.csv\", index = False)"
   ]
  },
  {
   "cell_type": "code",
   "execution_count": 21,
   "metadata": {},
   "outputs": [],
   "source": [
    "oof_pred.to_csv(\"oof_xgb.csv\", index = False)"
   ]
  }
 ],
 "metadata": {
  "kernelspec": {
   "display_name": "Python 3",
   "language": "python",
   "name": "python3"
  },
  "language_info": {
   "codemirror_mode": {
    "name": "ipython",
    "version": 3
   },
   "file_extension": ".py",
   "mimetype": "text/x-python",
   "name": "python",
   "nbconvert_exporter": "python",
   "pygments_lexer": "ipython3",
   "version": "3.7.3"
  }
 },
 "nbformat": 4,
 "nbformat_minor": 4
}
